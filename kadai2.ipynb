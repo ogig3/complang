{
 "cells": [
  {
   "cell_type": "markdown",
   "metadata": {},
   "source": [
    "# コンピュータの言語：課題2\n",
    "\n",
    "python で簡単な計算をしてみよう"
   ]
  },
  {
   "cell_type": "markdown",
   "metadata": {},
   "source": [
    "## はじめに\n",
    "\n",
    "jupyter notebook はプログラムを対話的に実行できる便利な環境です．今年のコンピュータの言語ではこれを使って練習しながら python とプログラムの考え方に慣れていってもらいます．今回は簡単な算術計算です．\n",
    "\n",
    "### セルの実行と編集\n",
    "\n",
    "このファイル内のpythonプログラムは，マウスで行（__セル(Cell)__と言います）を選択して，__Shift+Enter__(Shiftキーを押しながらEnterキーを押す）で実行することができます．\n",
    "\n",
    "セルを編集するためには__ダブルクリック__します．編集が終わったら，Shift+Enter で確定されます．"
   ]
  },
  {
   "cell_type": "markdown",
   "metadata": {},
   "source": [
    "## 四則計算\n",
    "\n",
    "いくつかの計算をして見ましょう．四則演算の記号は以下となります．\n",
    "* 足し算：```+```\n",
    "* 引き算：```-```\n",
    "* 掛け算：```*```\n",
    "* 割り算：```/```"
   ]
  },
  {
   "cell_type": "code",
   "execution_count": null,
   "metadata": {
    "collapsed": true
   },
   "outputs": [],
   "source": [
    "1+1"
   ]
  },
  {
   "cell_type": "code",
   "execution_count": null,
   "metadata": {
    "collapsed": true
   },
   "outputs": [],
   "source": [
    "3-2"
   ]
  },
  {
   "cell_type": "code",
   "execution_count": null,
   "metadata": {
    "collapsed": true
   },
   "outputs": [],
   "source": [
    "4/2"
   ]
  },
  {
   "cell_type": "code",
   "execution_count": null,
   "metadata": {
    "collapsed": true
   },
   "outputs": [],
   "source": [
    "2*3"
   ]
  },
  {
   "cell_type": "code",
   "execution_count": null,
   "metadata": {
    "collapsed": true
   },
   "outputs": [],
   "source": [
    "2.0*3"
   ]
  },
  {
   "cell_type": "code",
   "execution_count": null,
   "metadata": {
    "collapsed": true
   },
   "outputs": [],
   "source": [
    "(10+3)*2-1"
   ]
  },
  {
   "cell_type": "markdown",
   "metadata": {},
   "source": [
    "## べき乗\n",
    "\n",
    "$2^3$ は　```**``` という記号を使って計算することができます．２の３乗は８ですね．"
   ]
  },
  {
   "cell_type": "code",
   "execution_count": null,
   "metadata": {
    "collapsed": true
   },
   "outputs": [],
   "source": [
    "2**3"
   ]
  },
  {
   "cell_type": "markdown",
   "metadata": {},
   "source": [
    "## 割り算の商と剰余\n",
    "割り算の```/``` は少数まで求めますが，整数だけ求めたいとき，つまり割り算の商は ```//```，割り算のあまり（剰余）は ```%``` という記号を使って計算することができます．例えば，10を3で割った時の商3と余り1 については以下のように求めることができます．"
   ]
  },
  {
   "cell_type": "code",
   "execution_count": 2,
   "metadata": {
    "collapsed": false
   },
   "outputs": [
    {
     "data": {
      "text/plain": [
       "3"
      ]
     },
     "execution_count": 2,
     "metadata": {},
     "output_type": "execute_result"
    }
   ],
   "source": [
    "10//3 "
   ]
  },
  {
   "cell_type": "code",
   "execution_count": 3,
   "metadata": {
    "collapsed": false
   },
   "outputs": [
    {
     "data": {
      "text/plain": [
       "1"
      ]
     },
     "execution_count": 3,
     "metadata": {},
     "output_type": "execute_result"
    }
   ],
   "source": [
    "10%3"
   ]
  },
  {
   "cell_type": "markdown",
   "metadata": {},
   "source": [
    "## コメント\n",
    "プログラムをするときには，コードの説明を入れることがよくあります．この説明のことを__[コメント](http://ja.wikipedia.org/wiki/コメント(コンピュータ)__と言います．コメントはプログラムでは通常実行されません．\n",
    "\n",
    "Python ではコメント部分を示すのに ```#``` の記号を使い，```＃``` のある場所から行末までがコメントとなります．"
   ]
  },
  {
   "cell_type": "code",
   "execution_count": null,
   "metadata": {
    "collapsed": true
   },
   "outputs": [],
   "source": [
    "10%3  # この部分は説明です．"
   ]
  },
  {
   "cell_type": "markdown",
   "metadata": {},
   "source": [
    "## print\n",
    "ここまでの計算では，全て計算結果がすぐ下に出てきていましたが，複数の計算結果を出力したい場合には ```print``` 命令を使います．書式は\n",
    "\n",
    "```\n",
    "print(出力したいもの)\n",
    "```\n",
    "\n",
    "です．"
   ]
  },
  {
   "cell_type": "code",
   "execution_count": null,
   "metadata": {
    "collapsed": true
   },
   "outputs": [],
   "source": [
    "print(1+1)\n",
    "print(3+3)\n",
    "print(\"1+1を計算したら\", 1+1, \"になる\")"
   ]
  },
  {
   "cell_type": "markdown",
   "metadata": {},
   "source": [
    "## ビットとバイト\n",
    "\n",
    "前回の授業では __ビット(bit)__ と __バイト(byte)__ という単位について学習しました．\n",
    "\n",
    "それでは何ビットで何通りのことを表現できるかを調べてみましょう．そのためには，２のべき乗を計算すればよいことになります．$2^n$ は python では ```2**n``` で計算できますので，以下のようになります．"
   ]
  },
  {
   "cell_type": "code",
   "execution_count": null,
   "metadata": {
    "collapsed": true
   },
   "outputs": [],
   "source": [
    "print(2**1) # 1ビット\n",
    "print(2**2) # 2ビット\n",
    "print(2**3) # 3ビット\n",
    "print(2**4) # 4ビット\n",
    "print(2**5) # 5ビット\n",
    "print(2**6) # 6ビット\n",
    "print(2**7) # 7ビット\n",
    "print(2**8) # 8ビット"
   ]
  },
  {
   "cell_type": "markdown",
   "metadata": {},
   "source": [
    "次に何バイトで何通りのことを表現できるでしょうか？ 1バイトは8ビットですから，p バイトだと $8 \\times p$  ビットになりますので，"
   ]
  },
  {
   "cell_type": "code",
   "execution_count": null,
   "metadata": {
    "collapsed": true
   },
   "outputs": [],
   "source": [
    "print(2**(8))   #1バイト\n",
    "print(2**(8*2)) #2バイト\n",
    "print(2**(8*3)) #3バイト"
   ]
  },
  {
   "cell_type": "markdown",
   "metadata": {},
   "source": [
    "バイト数が大きくなると急速に大きな数になっていることがわかりますね．"
   ]
  },
  {
   "cell_type": "markdown",
   "metadata": {},
   "source": [
    "## 課題1\n",
    "\n",
    "以下の計算をしてください．\n",
    "\n",
    "a. $123456789\\times9$"
   ]
  },
  {
   "cell_type": "code",
   "execution_count": null,
   "metadata": {
    "collapsed": true
   },
   "outputs": [],
   "source": []
  },
  {
   "cell_type": "markdown",
   "metadata": {},
   "source": [
    "b. 学籍番号を６桁の数で表した時の各桁の数の和を求めてください．(例えば，情12-3456 の時は $1+2+3+4+5+6$ です．"
   ]
  },
  {
   "cell_type": "code",
   "execution_count": null,
   "metadata": {
    "collapsed": true
   },
   "outputs": [],
   "source": [
    "1+2+3+4+5+6"
   ]
  },
  {
   "cell_type": "markdown",
   "metadata": {},
   "source": [
    "c. 2で求めた和を9で割った時の余りを求めてください．"
   ]
  },
  {
   "cell_type": "code",
   "execution_count": null,
   "metadata": {
    "collapsed": true
   },
   "outputs": [],
   "source": [
    "(1+2+3+4+5+6)XXXXX"
   ]
  },
  {
   "cell_type": "markdown",
   "metadata": {},
   "source": [
    "## 課題"
   ]
  },
  {
   "cell_type": "markdown",
   "metadata": {},
   "source": [
    "以下の問題で Q1, Q2, Q3 を置き換えて計算を完成させてください．\n",
    "\n",
    "    毎日，日記を付けたときのデータ量を考えます．１日に書く文字数を約 1000文字としてテキストファイルに保存したときの 10年分の日記のファイルサイズをキロバイトで見積もってください．（ただし１年は 365日とし，文字はすべて２バイトで保存されるものとします．）"
   ]
  },
  {
   "cell_type": "markdown",
   "metadata": {},
   "source": [
    "この問題を解くとき，まずは１０年での文字数を計算してみます．１日１０００文字で，１年は３６５日ですので．．"
   ]
  },
  {
   "cell_type": "code",
   "execution_count": null,
   "metadata": {
    "collapsed": true
   },
   "outputs": [],
   "source": [
    "1000 * 365 * Q1"
   ]
  },
  {
   "cell_type": "markdown",
   "metadata": {},
   "source": [
    "次に，バイト数を計算します．１文字は２バイトで計算されるので以下のように計算することができます．"
   ]
  },
  {
   "cell_type": "code",
   "execution_count": null,
   "metadata": {
    "collapsed": true
   },
   "outputs": [],
   "source": [
    "1000 * 365 * Q1 * Q2"
   ]
  },
  {
   "cell_type": "markdown",
   "metadata": {},
   "source": [
    "求められているのは，バイトではなく__キロ__バイトです．\n",
    "\n",
    "　　１キロバイト＝ $2^{10}$ バイト\n",
    "　　(あるいは 1キロバイト=1000バイトでもオッケー）\n",
    "\n",
    "なので最終的には，以下のように計算することができます．"
   ]
  },
  {
   "cell_type": "code",
   "execution_count": null,
   "metadata": {
    "collapsed": true
   },
   "outputs": [],
   "source": [
    "1000 * 365 * Q1 * Q2 / Q3"
   ]
  },
  {
   "cell_type": "markdown",
   "metadata": {},
   "source": [
    "## 感想"
   ]
  },
  {
   "cell_type": "markdown",
   "metadata": {},
   "source": [
    "名前："
   ]
  },
  {
   "cell_type": "markdown",
   "metadata": {},
   "source": [
    "学籍番号："
   ]
  },
  {
   "cell_type": "markdown",
   "metadata": {},
   "source": [
    "感想："
   ]
  }
 ],
 "metadata": {
  "anaconda-cloud": {},
  "kernelspec": {
   "display_name": "Python [default]",
   "language": "python",
   "name": "python3"
  },
  "language_info": {
   "codemirror_mode": {
    "name": "ipython",
    "version": 3
   },
   "file_extension": ".py",
   "mimetype": "text/x-python",
   "name": "python",
   "nbconvert_exporter": "python",
   "pygments_lexer": "ipython3",
   "version": "3.5.2"
  }
 },
 "nbformat": 4,
 "nbformat_minor": 1
}
