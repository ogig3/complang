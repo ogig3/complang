{
 "cells": [
  {
   "cell_type": "markdown",
   "metadata": {},
   "source": [
    "# コンピュータの言語：課題6：フローチャートとPython (while)\n",
    "\n",
    "\n",
    "\n",
    "前回までに ```for``` の使い方を学びましたが，今回は ```while``` を使った繰り返しです．\n",
    "\n",
    "## while を使った繰り返し\n",
    "\n",
    "```while``` は\n",
    "\n",
    "```python\n",
    "while 条件:\n",
    "    命令\n",
    "```\n",
    "\n",
    "のように書き，条件が満たされている間，字下げをされた部分が繰り返されます．試してみましょう．"
   ]
  },
  {
   "cell_type": "code",
   "execution_count": null,
   "metadata": {
    "collapsed": true
   },
   "outputs": [],
   "source": [
    "n = 0\n",
    "while n<10:\n",
    "    print(n)\n",
    "    n = n+1"
   ]
  },
  {
   "cell_type": "markdown",
   "metadata": {},
   "source": [
    "上記のように，while ループの中で「nが10未満」という条件が成り立っている間，「nに1を足す」命令が繰り返されています．"
   ]
  },
  {
   "cell_type": "markdown",
   "metadata": {},
   "source": [
    "## 例１：選択構造による繰り返し（前判定）\n",
    "\n",
    "![](http://158.217.45.5/complang/figs_kadai06/kadai06_01.png)\n"
   ]
  },
  {
   "cell_type": "code",
   "execution_count": null,
   "metadata": {
    "collapsed": true
   },
   "outputs": [],
   "source": [
    "summ = 0\n",
    "i = 1\n",
    "\n",
    "while i<=10:\n",
    "    summ = summ + i\n",
    "    i = i+1\n",
    "\n",
    "print(sum)"
   ]
  },
  {
   "cell_type": "markdown",
   "metadata": {},
   "source": [
    "## 練習１\n",
    "\n",
    "* 下のプログラムを改変して１０から２００までの和を求めてください．（１０と２００は含みます）"
   ]
  },
  {
   "cell_type": "code",
   "execution_count": null,
   "metadata": {
    "collapsed": true
   },
   "outputs": [],
   "source": [
    "summ = 0\n",
    "i = 1\n",
    "\n",
    "while i<=10:\n",
    "    summ = summ + i\n",
    "    i = i+1\n",
    "\n",
    "print(summ)"
   ]
  },
  {
   "cell_type": "markdown",
   "metadata": {},
   "source": [
    "## 例２：選択構造による繰り返し（後判定）\n",
    "\n",
    "![](http://158.217.45.5/complang/figs_kadai06/kadai06_02.png)\n",
    "\n",
    "while は「条件が成立するか成立しないか」，つまり「条件が ```True``` か ```False``` か」でループを回すかどうかを決定します．（このように ```True``` または ```False``` になる式を __論理式__ といいます．）\n",
    "\n",
    "while の条件のところを ```True``` としておいて，ループの中で実行条件や終了条件を判断することもできます．"
   ]
  },
  {
   "cell_type": "code",
   "execution_count": null,
   "metadata": {
    "collapsed": true
   },
   "outputs": [],
   "source": [
    "summ = 0\n",
    "i = 1\n",
    "\n",
    "while True:\n",
    "    summ = summ + i\n",
    "    i = i+1\n",
    "    \n",
    "    if i<=10:\n",
    "        continue\n",
    "    else:\n",
    "        break\n",
    "\n",
    "print(summ)"
   ]
  },
  {
   "cell_type": "markdown",
   "metadata": {},
   "source": [
    "```continue``` が実行されると，while ループの最初に戻ります（その後の命令は実行されません）．また，```break``` が実行されると，while ループはそこで終了し，プログラムはループを抜けて while の下の命令が実行されます．"
   ]
  },
  {
   "cell_type": "markdown",
   "metadata": {},
   "source": [
    "## 練習2\n",
    "```continue``` あるいは ```break``` の前後に命令を書いて実行されるかどうかを調べてみましょう．"
   ]
  },
  {
   "cell_type": "code",
   "execution_count": null,
   "metadata": {
    "collapsed": true
   },
   "outputs": [],
   "source": [
    "summ = 0\n",
    "i = 1\n",
    "\n",
    "while True:\n",
    "    summ = summ + i\n",
    "    i = i+1\n",
    "    \n",
    "    if i<=10:\n",
    "        ここに書いた命令は何回実行される？->(a)\n",
    "        continue\n",
    "    else:\n",
    "        ここに書いた命令は何回実行される？->(b)\n",
    "        break\n",
    "\n",
    "print(summ)"
   ]
  },
  {
   "cell_type": "markdown",
   "metadata": {},
   "source": [
    "(a): XXX 回, (b): XXX 回"
   ]
  },
  {
   "cell_type": "markdown",
   "metadata": {},
   "source": [
    "## 例3\n",
    "\n",
    "![](http://158.217.45.5/complang/figs_kadai06/kadai06_03.png)\n"
   ]
  },
  {
   "cell_type": "code",
   "execution_count": null,
   "metadata": {
    "collapsed": true
   },
   "outputs": [],
   "source": [
    "i = 7\n",
    "\n",
    "while i>0:\n",
    "    print(f'i:{i}')\n",
    "    i = i-2\n",
    "\n",
    "print(\"owari\")"
   ]
  },
  {
   "cell_type": "markdown",
   "metadata": {},
   "source": [
    "スライドでは，コンピュータを使わずに考える問題でしたが，コンピュータでプログラムを実行して，実行回数を調べてみましょう．\n",
    "そのために何回実行されるかを数えるための変数 \"repeat\" を用意して，```repeat``` は繰り返されるたびに１が足されるようにし，その値を出力するようにします．"
   ]
  },
  {
   "cell_type": "code",
   "execution_count": null,
   "metadata": {
    "collapsed": true
   },
   "outputs": [],
   "source": [
    "i = 7\n",
    "repeat = 0 #繰り返し回数を調べるための変数\n",
    "while i>0:\n",
    "    repeat = repeat + 1\n",
    "    print(f'repeat:{repeat}')\n",
    "    print(f'i:{i}')\n",
    "    i = i-2"
   ]
  },
  {
   "cell_type": "markdown",
   "metadata": {},
   "source": [
    "このようにすることでループの繰り返し回数を確認することができます．\n",
    "\n",
    "このように，プログラムの動作を確認したいときには，自分で変数を用意しどのような値が出力されるのかを確認するとよいでしょう．"
   ]
  },
  {
   "cell_type": "markdown",
   "metadata": {},
   "source": [
    "## 練習3\n",
    "\n",
    "![](http://158.217.45.5/complang/figs_kadai06/kadai06_04.png)\n",
    "\n",
    "\n",
    "上記の問題に対応する Python プログラムは以下となります．__xx(1)xx__ と __xx(2)xx__ に入る式は何になるでしょうか？（ヒント：sum = 45 と出力されれば合っていることになります）"
   ]
  },
  {
   "cell_type": "code",
   "execution_count": null,
   "metadata": {
    "collapsed": true
   },
   "outputs": [],
   "source": [
    "summ = 0\n",
    "xx(1)xx\n",
    "\n",
    "while i<=13:\n",
    "    summ = summ + i\n",
    "    xx(2)xx\n",
    "\n",
    "print(f'sum={summ}')"
   ]
  },
  {
   "cell_type": "markdown",
   "metadata": {},
   "source": [
    "## 練習4\n",
    "\n",
    "あるウィルスの感染者数は１日あたり2.3%ずつ増えていくことがわかっているとします．ある日の感染者は100人でした．感染者が100,000人を超えるのは約何日後になるでしょうか？それを求めるためのプログラムを完成させてください．"
   ]
  },
  {
   "cell_type": "code",
   "execution_count": null,
   "metadata": {
    "collapsed": true
   },
   "outputs": [],
   "source": [
    "n = 100\n",
    "days = 1\n",
    "while xx(1)xx:\n",
    "    days = days+1\n",
    "    n = xx(2)xx\n",
    "\n",
    "print(f'{days}日')"
   ]
  },
  {
   "cell_type": "markdown",
   "metadata": {},
   "source": [
    "## ループ端記号による繰り返し\n",
    "\n",
    "フローチャートでは，繰り返しの処理を行うのに選択記号もループ端記号も使えますが，それは for, while に対応しているわけではありません．今回はループ端記号のフローチャートを while を使ってプログラムにしていきます．\n",
    "\n",
    "![](http://158.217.45.5/complang/figs_kadai06/kadai06_05.png)\n",
    "\n",
    "ループ端記号に書かれている条件は「__ループが終了する条件__」であるのに対し，プログラムの while のところに書く条件は「__ループが実行される条件__」であるということに注意してください．"
   ]
  },
  {
   "cell_type": "code",
   "execution_count": null,
   "metadata": {
    "collapsed": true
   },
   "outputs": [],
   "source": [
    "n = int( input(\"nを入力してください:\") )\n",
    "\n",
    "while n>0:\n",
    "    print(f'n={n}')\n",
    "    n = n-1\n",
    "\n",
    "print(\"owari\")"
   ]
  },
  {
   "cell_type": "markdown",
   "metadata": {},
   "source": [
    "## 無限ループ\n",
    "\n",
    "上のプログラムで n<0 として -1 を入力すると，n はどんどん小さくなって，いつまでもループが終了しなくなってしまいます．このように終了しないループのことを __無限ループ__ といいます（場合によっては操作不能になるので，やめておいたほうがよいでしょう）．もしこのようになったプログラムをJupyter notebook で終了させるためには，メニューの 「Kernel」の中から「Interrupt」「Restart」を選択してください．運が良ければ再開することができます．"
   ]
  },
  {
   "cell_type": "markdown",
   "metadata": {},
   "source": [
    "## 練習5\n",
    "\n",
    "![](http://158.217.45.5/complang/figs_kadai06/kadai06_06.png)\n",
    "\n",
    "上のフローチャートと同じになるように下のプログラムを完成させてください．"
   ]
  },
  {
   "cell_type": "code",
   "execution_count": null,
   "metadata": {
    "collapsed": true
   },
   "outputs": [],
   "source": [
    "max_val = 0\n",
    "while True:\n",
    "    n = int(input(\"数字を入力してください：\"))\n",
    "    if XXXXXXXX:\n",
    "        break\n",
    "    if XXXXXXXX:\n",
    "        max_val = n\n",
    "print( \"最大値：\", max_val)"
   ]
  },
  {
   "cell_type": "markdown",
   "metadata": {},
   "source": [
    "## 練習6\n",
    "\n",
    "上記のプログラムは終了条件と実行条件を入れ替えて，下のように書くこともできます．\n",
    "\n",
    "![](http://158.217.45.5/complang/figs_kadai06/kadai06_07.png)\n",
    "\n",
    "これと同じになるように下のプログラムを完成させてください．"
   ]
  },
  {
   "cell_type": "code",
   "execution_count": null,
   "metadata": {
    "collapsed": true
   },
   "outputs": [],
   "source": [
    "max_val = 0\n",
    "n = 1\n",
    "while n>0:\n",
    "    n = int(input(\"数字を入力してください：\"))\n",
    "    if XXXXXXXX:\n",
    "        max_val = n\n",
    "print( f\"最大値：{max_val}\")"
   ]
  },
  {
   "cell_type": "markdown",
   "metadata": {},
   "source": [
    "## 関数\n",
    "\n",
    "関数とは，__一連の処理をひとまとめにしたもの__，あるいは，__処理を行った後にある値を返すもの__です．\n",
    "\n",
    "関数は以下のように定義します．\n",
    "\n",
    "```python\n",
    "def 関数名 (パラメータ):\n",
    "   処理ブロック\n",
    "```\n",
    "\n",
    "while, for と同様に，処理ブロックは４つのスペースで字下げされている部分になります． \n",
    "\n",
    "___パラメータ___ の部分は関数が値を受け取るところで， __引数__ といいます．\n",
    "\n",
    "関数が変数の値を返す場合には ```return``` によって返します（必ずしも値を返す必要はありません．その場合は ```return``` は不要です）．\n",
    "\n",
    "```python\n",
    "def 関数名 (パラメータ):\n",
    "   処理ブロック\n",
    "   return 変数\n",
    "```\n",
    "\n",
    "例えば，「ある値を受け取って１を加えて返す」関数 ___plus___ は以下のように書くことができます．"
   ]
  },
  {
   "cell_type": "code",
   "execution_count": null,
   "metadata": {
    "collapsed": true
   },
   "outputs": [],
   "source": [
    "def plus(x):\n",
    "    x = x+1\n",
    "    return x\n",
    "\n",
    "plus(1)"
   ]
  },
  {
   "cell_type": "markdown",
   "metadata": {},
   "source": [
    "注意点としては，__関数を使う時には，必ずその前に定義されていなければならない__ということです．\n",
    "\n",
    "以下はエラーが出るプログラムの例"
   ]
  },
  {
   "cell_type": "code",
   "execution_count": null,
   "metadata": {
    "collapsed": true
   },
   "outputs": [],
   "source": [
    "print( minus(1) )   # 定義されていないのに，いきなり関数 minus が現れた！　エラーだ！\n",
    "\n",
    "def minus(x):\n",
    "    return x+1"
   ]
  },
  {
   "cell_type": "markdown",
   "metadata": {},
   "source": [
    "正しい順序の例．"
   ]
  },
  {
   "cell_type": "code",
   "execution_count": null,
   "metadata": {
    "collapsed": true
   },
   "outputs": [],
   "source": [
    "def minus(x):       # ここで定義されている\n",
    "    return x-1\n",
    "\n",
    "print( minus(1) )　    # 上で定義されているので，使える！"
   ]
  },
  {
   "cell_type": "markdown",
   "metadata": {},
   "source": [
    "## 練習7\n",
    "\n",
    "下のプログラムで，引数として入力された値に3をかけて返す関数 kakesan を定義してください．\n"
   ]
  },
  {
   "cell_type": "code",
   "execution_count": null,
   "metadata": {
    "collapsed": true
   },
   "outputs": [],
   "source": [
    "def XXXXXXXXXXXX:\n",
    "    XXXXXXXX\n",
    "    XXXXXXXX\n",
    "\n",
    "\n",
    "x = kakesan(3)\n",
    "print(x)"
   ]
  },
  {
   "cell_type": "markdown",
   "metadata": {},
   "source": [
    "関数は複数の引数を取ることができます．"
   ]
  },
  {
   "cell_type": "code",
   "execution_count": null,
   "metadata": {},
   "outputs": [],
   "source": [
    "def select_small(x,y):\n",
    "    if x<y:\n",
    "        return x\n",
    "    else:\n",
    "        return y\n",
    "\n",
    "p = select_small(1,3)\n",
    "print(p)"
   ]
  },
  {
   "cell_type": "markdown",
   "metadata": {},
   "source": [
    "## 練習8\n",
    "\n",
    "２つの数字を引数として受け取り，その掛け算を出力する関数kake を定義してください．"
   ]
  },
  {
   "cell_type": "code",
   "execution_count": null,
   "metadata": {},
   "outputs": [],
   "source": [
    "def xxxxxxxxxxxxxxxx:\n",
    "        xxxxxxxxx\n",
    "\n",
    "\n",
    "x = kake(2,3)\n",
    "print(x)"
   ]
  },
  {
   "cell_type": "markdown",
   "metadata": {},
   "source": [
    "## 練習9\n",
    "\n",
    "二次関数 y = x<sup>2</sup> - 6x + 9 について，x を -10 から 10 まで 0.1 ずつ動かした時の最小値とそのときの x の値を求めるプログラムを書いてみましょう．以下のプログラムの __XXXXXXXXXXXXXXXX__ には何を入れたらよいでしょうか？"
   ]
  },
  {
   "cell_type": "code",
   "execution_count": null,
   "metadata": {
    "collapsed": true
   },
   "outputs": [],
   "source": [
    "def func(x):\n",
    "    return x**2-6*x+9\n",
    "\n",
    "x = -10.0\n",
    "min = 1000.0\n",
    "x_min = x\n",
    "while x<=10:\n",
    "    y = func(x)\n",
    "    if XXXXXXXXXXXXX:\n",
    "        min = XXXXXXXXXXXXXXX\n",
    "        x_min = x\n",
    "    x = XXXXXXXXXXXX\n",
    "\n",
    "print(\"最小値は{0:.1f}，その時のxの値は{1:.1f}\".format(min, x_min))"
   ]
  },
  {
   "cell_type": "markdown",
   "metadata": {},
   "source": [
    "プログラムの出力は 「最小値は 0.0 その時のxの値は 3.0」と出力されれば合っています．"
   ]
  },
  {
   "cell_type": "markdown",
   "metadata": {},
   "source": [
    "## 関数とスコープ (応用)\n",
    "基本的には，関数は引数や返り値を通して周囲とやりとりをしますし，多くの場合ではそのようにすべきです．こうすることで，情報の入力と出力がはっきりして，読みやすくなり，テストやデバッグがやりやすくなります．\n",
    "\n",
    "これはプログラムを理解しようとするときに，__その場所の近辺さえ理解しさえすれば理解可能である__ということです．もし他の場所で定義されたものまで考えなければならないとしたら，その関数が実行される文脈など多くのことを考慮しなければならず，理解が難しくなってしまいます．\n",
    "\n",
    "しかしながら，それでも，ときには，__関数の外で定義した変数（広域変数（グローバル変数））にアクセスしたい__場合もあります．そのときには，どうすればよいのでしょうか？ そんなときは ```global``` を使います．"
   ]
  },
  {
   "cell_type": "markdown",
   "metadata": {},
   "source": [
    "## 練習10\n",
    "\n",
    "下のプログラムの出力を調べ，1st:, 2nd:, 3rd: のそれぞれ後に出力される値を調べ， (1),(2),(3) として答えてください．"
   ]
  },
  {
   "cell_type": "code",
   "execution_count": null,
   "metadata": {
    "collapsed": true
   },
   "outputs": [],
   "source": [
    "a = 10\n",
    "\n",
    "def plus_one(x):\n",
    "    a = x+1\n",
    "\n",
    "def plus_two(x):\n",
    "    global a\n",
    "    a = x+2\n",
    "\n",
    "print( \"1st:\", a)\n",
    "plus_one(3)\n",
    "print( \"2nd:\", a)\n",
    "plus_two(4)\n",
    "print( \"3rd:\", a)"
   ]
  },
  {
   "cell_type": "markdown",
   "metadata": {},
   "source": [
    "(1): XXX \n",
    "(2): XXX\n",
    "(3): XXX"
   ]
  },
  {
   "cell_type": "markdown",
   "metadata": {},
   "source": [
    "## 課題提出"
   ]
  },
  {
   "cell_type": "markdown",
   "metadata": {},
   "source": [
    "名前："
   ]
  },
  {
   "cell_type": "markdown",
   "metadata": {},
   "source": [
    "学籍番号："
   ]
  },
  {
   "cell_type": "markdown",
   "metadata": {},
   "source": [
    "感想："
   ]
  },
  {
   "cell_type": "markdown",
   "metadata": {},
   "source": [
    "ファイルを保存したら，以下のリンクからファイルをアップロードしてください．\n",
    "\n",
    "* [アップロードサイト](http://158.217.45.5:8086/upload)"
   ]
  },
  {
   "cell_type": "code",
   "execution_count": null,
   "metadata": {},
   "outputs": [],
   "source": []
  }
 ],
 "metadata": {
  "anaconda-cloud": {},
  "kernelspec": {
   "display_name": "Python 3",
   "language": "python",
   "name": "python3"
  },
  "language_info": {
   "codemirror_mode": {
    "name": "ipython",
    "version": 3
   },
   "file_extension": ".py",
   "mimetype": "text/x-python",
   "name": "python",
   "nbconvert_exporter": "python",
   "pygments_lexer": "ipython3",
   "version": "3.7.3"
  }
 },
 "nbformat": 4,
 "nbformat_minor": 2
}
