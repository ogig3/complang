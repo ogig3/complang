{
  "nbformat": 4,
  "nbformat_minor": 0,
  "metadata": {
    "colab": {
      "name": "kadai5.ipynb",
      "version": "0.3.2",
      "provenance": []
    },
    "kernelspec": {
      "name": "python3",
      "display_name": "Python 3"
    }
  },
  "cells": [
    {
      "metadata": {
        "id": "--I9dnxIdkWT",
        "colab_type": "text"
      },
      "cell_type": "markdown",
      "source": [
        "# コンピュータの言語：課題5：フローチャートとPython2\n",
        "\n",
        "\n",
        "\n",
        "前回は ```for``` の使い方を学びましたが，今回は ```while``` を使った繰り返しです．\n",
        "\n",
        "## while を使った繰り返し\n",
        "\n",
        "授業でも伝えましたが，```while``` は\n",
        "\n",
        "```python\n",
        "while 条件:\n",
        "    命令\n",
        "```\n",
        "\n",
        "のように書き，条件が満たされている間，字下げをされた部分が繰り返されます．試してみましょう．"
      ]
    },
    {
      "metadata": {
        "id": "q-OmTLWAdkWV",
        "colab_type": "code",
        "colab": {}
      },
      "cell_type": "code",
      "source": [
        "n = 0\n",
        "while n<10:\n",
        "    print(n)\n",
        "    n = n+1"
      ],
      "execution_count": 0,
      "outputs": []
    },
    {
      "metadata": {
        "id": "qW8qnZRNdkWZ",
        "colab_type": "text"
      },
      "cell_type": "markdown",
      "source": [
        "上記のように，while ループの中で「nが10未満」という条件が成り立っている間，「nに1を足す」命令が繰り返されています．"
      ]
    },
    {
      "metadata": {
        "id": "PVhC_kqgdkWa",
        "colab_type": "text"
      },
      "cell_type": "markdown",
      "source": [
        "## 例１：選択構造による繰り返し（前判定）\n",
        "\n",
        "![](http://158.217.45.5/complang/figs_kadai05/kadai05_01.png)"
      ]
    },
    {
      "metadata": {
        "id": "aA8wFJ4FdkWb",
        "colab_type": "code",
        "colab": {}
      },
      "cell_type": "code",
      "source": [
        "sum = 0\n",
        "i = 1\n",
        "\n",
        "while i<=10:\n",
        "    sum = sum + i\n",
        "    i = i+1\n",
        "\n",
        "print(sum)"
      ],
      "execution_count": 0,
      "outputs": []
    },
    {
      "metadata": {
        "id": "xckQIhQHdkWf",
        "colab_type": "text"
      },
      "cell_type": "markdown",
      "source": [
        "## 練習１\n",
        "\n",
        "* 下のプログラムを改変して１０から２００までの和を求めてください．（１０と２００は含みます）"
      ]
    },
    {
      "metadata": {
        "id": "Wy8_D-MSdkWg",
        "colab_type": "code",
        "colab": {}
      },
      "cell_type": "code",
      "source": [
        "sum = 0\n",
        "i = 1\n",
        "\n",
        "while i<=10:\n",
        "    sum = sum + i\n",
        "    i = i+1\n",
        "\n",
        "print(sum)"
      ],
      "execution_count": 0,
      "outputs": []
    },
    {
      "metadata": {
        "id": "zT-AdTVrdkWj",
        "colab_type": "text"
      },
      "cell_type": "markdown",
      "source": [
        "## 例２：選択構造による繰り返し（後判定）\n",
        "\n",
        "![](http://158.217.45.5/complang/figs_kadai05/kadai05_02.png)\n",
        "\n",
        "while の条件は，成立するか成立しないか，つまり ```True``` になるか ```False``` になるかでループを回すかどうかを決定します．（このように ```True``` または ```False``` になる式を __論理式__ といいます．）\n",
        "\n",
        "while の条件のところを ```True``` としておいて，実行条件や終了条件をループの中に書くこともあります．"
      ]
    },
    {
      "metadata": {
        "id": "h8BHv2gfdkWk",
        "colab_type": "code",
        "colab": {}
      },
      "cell_type": "code",
      "source": [
        "sum = 0\n",
        "i = 1\n",
        "\n",
        "while True:\n",
        "    sum = sum + i\n",
        "    i = i+1\n",
        "    \n",
        "    if i<=10:\n",
        "        continue\n",
        "    else:\n",
        "        break\n",
        "\n",
        "print(sum)"
      ],
      "execution_count": 0,
      "outputs": []
    },
    {
      "metadata": {
        "id": "qiN3tPLBdkWo",
        "colab_type": "text"
      },
      "cell_type": "markdown",
      "source": [
        "```continue``` が実行されると，while ループの最初に戻ります（その後の命令は実行されません）．また，```break``` が実行されると，while ループはそこで終了し，プログラムはループを抜けて while の下の命令が実行されます．"
      ]
    },
    {
      "metadata": {
        "id": "kR-iWqTUdkWq",
        "colab_type": "text"
      },
      "cell_type": "markdown",
      "source": [
        "## 練習2\n",
        "```continue``` あるいは ```break``` の前後に命令を書いて実行されるかどうかを調べてみましょう．"
      ]
    },
    {
      "metadata": {
        "id": "XfMjdRSEdkWq",
        "colab_type": "code",
        "colab": {}
      },
      "cell_type": "code",
      "source": [
        "sum = 0\n",
        "i = 1\n",
        "\n",
        "while True:\n",
        "    sum = sum + i\n",
        "    i = i+1\n",
        "    \n",
        "    if i<=10:\n",
        "        XXXXXXXXXXXXXXXXXここに書いた命令は何回実行される？->(a)\n",
        "        continue\n",
        "    else:\n",
        "        XXXXXXXXXXXXXXXXXここに書いた命令は何回実行される？->(b)\n",
        "        break\n",
        "\n",
        "print(sum)"
      ],
      "execution_count": 0,
      "outputs": []
    },
    {
      "metadata": {
        "id": "WKtecivFdkWs",
        "colab_type": "text"
      },
      "cell_type": "markdown",
      "source": [
        "(a): XXX 回, (b): XXX 回"
      ]
    },
    {
      "metadata": {
        "id": "RWGl-1ErdkWt",
        "colab_type": "text"
      },
      "cell_type": "markdown",
      "source": [
        "## 例3\n",
        "\n",
        "![](http://158.217.45.5/complang/figs_kadai05/kadai05_03.png)"
      ]
    },
    {
      "metadata": {
        "id": "Fb9tiQfKdkWu",
        "colab_type": "code",
        "colab": {}
      },
      "cell_type": "code",
      "source": [
        "i = 7\n",
        "\n",
        "while i>0:\n",
        "    print(\"i:\", i)\n",
        "    i = i-2\n",
        "\n",
        "print(\"owari\")"
      ],
      "execution_count": 0,
      "outputs": []
    },
    {
      "metadata": {
        "id": "6Jk4k3TddkWx",
        "colab_type": "text"
      },
      "cell_type": "markdown",
      "source": [
        "スライドでは，コンピュータを使わずに頭で考えてみる問題でしたが，コンピュータでプログラムを実行して，実行回数を調べてみましょう．\n",
        "そのために何回実行されるかを数えるための変数 \"repeat\" を導入します．"
      ]
    },
    {
      "metadata": {
        "id": "_gWeN1lodkWy",
        "colab_type": "code",
        "colab": {}
      },
      "cell_type": "code",
      "source": [
        "i = 7\n",
        "repeat = 0 #繰り返し回数を調べるための変数\n",
        "while i>0:\n",
        "    repeat = repeat + 1\n",
        "    print(\"repeat:\", repeat)\n",
        "    print(\"i:\", i)\n",
        "    i = i-2"
      ],
      "execution_count": 0,
      "outputs": []
    },
    {
      "metadata": {
        "id": "b55U8DE1dkW0",
        "colab_type": "text"
      },
      "cell_type": "markdown",
      "source": [
        "```repeat``` は繰り返されるたびに１が足されるようにし，その値を出力するようにします．このようにすることでループの繰り返し回数を確認することができます．\n",
        "\n",
        "このように自分で変数を入れてプログラムがどのように動いているのかを確認する作業はよく行われます．"
      ]
    },
    {
      "metadata": {
        "id": "opgpIrAsdkW1",
        "colab_type": "text"
      },
      "cell_type": "markdown",
      "source": [
        "## 練習3\n",
        "\n",
        "![](http://158.217.45.5/complang/figs_kadai05/kadai05_04.png)\n",
        "\n",
        "\n",
        "上記の問題に対応する Python プログラムは以下となります．__xx(1)xx__ と __xx(2)xx__ に入る式は何になるでしょうか？（ヒント：sum = 45 と出力されれば合っていることになります）"
      ]
    },
    {
      "metadata": {
        "collapsed": true,
        "id": "gBtRfhONdkW2",
        "colab_type": "code",
        "colab": {}
      },
      "cell_type": "code",
      "source": [
        "sum = 0\n",
        "xx(1)xx\n",
        "\n",
        "while i<=13:\n",
        "    sum = sum + i\n",
        "    xx(2)xx\n",
        "\n",
        "print(\"sum=\", sum)"
      ],
      "execution_count": 0,
      "outputs": []
    },
    {
      "metadata": {
        "id": "Sv2UMW16dkW4",
        "colab_type": "text"
      },
      "cell_type": "markdown",
      "source": [
        "## 練習4\n",
        "\n",
        "あるウィルスの感染者数は１日あたり2.3%ずつ増えていくことがわかっているとします．ある日の感染者は100人でした．感染者が100,000人を超えるのは何日後になるでしょうか？それを求めるためのプログラムを作成するとき，以下の __xx(1)xx__ と __xx(2)xx__ には何をいれればよいでしょうか？"
      ]
    },
    {
      "metadata": {
        "collapsed": true,
        "id": "K6vghXIQdkW4",
        "colab_type": "code",
        "colab": {}
      },
      "cell_type": "code",
      "source": [
        "n = 100\n",
        "days = 1\n",
        "while xx(1)xx:\n",
        "  days = days+1\n",
        "  n = xx(2)xx\n",
        "\n",
        "print(days)"
      ],
      "execution_count": 0,
      "outputs": []
    },
    {
      "metadata": {
        "id": "pK-p7DrodkW6",
        "colab_type": "text"
      },
      "cell_type": "markdown",
      "source": [
        "## ループ端記号による繰り返し\n",
        "\n",
        "フローチャートでは，繰り返しの処理を行うのに選択記号もループ端記号も使えますが，それは for, while に対応しているわけではありません．今回はループ端記号のフローチャートを while を使ってプログラムにしていきます．\n",
        "\n",
        "![](http://158.217.45.5/complang/figs_kadai05/kadai05_05.png)\n",
        "\n",
        "ループ端記号に書かれている条件は「__ループが終了する条件__」であるのに対し，プログラムの while のところに書く条件は「__ループが実行される条件__」であるということに注意してください．"
      ]
    },
    {
      "metadata": {
        "collapsed": true,
        "id": "FUpTlbSIdkW7",
        "colab_type": "code",
        "colab": {}
      },
      "cell_type": "code",
      "source": [
        "n = int( input(\"nを入力してください:\") )\n",
        "\n",
        "while n>0:\n",
        "    print(\"n=\", n)\n",
        "    n = n-1\n",
        "\n",
        "print(\"owari\")"
      ],
      "execution_count": 0,
      "outputs": []
    },
    {
      "metadata": {
        "id": "Z9NkXr4YdkW8",
        "colab_type": "text"
      },
      "cell_type": "markdown",
      "source": [
        "## 無限ループ\n",
        "\n",
        "上のプログラムで n<0 として -1 を入力すると，n はどんどん小さくなって，いつまでもループが終了しなくなってしまいます．このように終了しないループのことを __無限ループ__ といいます（場合によっては操作不能になるので，やめておいたほうがよいでしょう）．もしこのようになったプログラムをJupyter notebook で終了させるためには，メニューの 「Kernel」の中から「Interrupt」「Restart」を選択してください．運が良ければ再開することができます．"
      ]
    },
    {
      "metadata": {
        "id": "rXmk8WQsdkW9",
        "colab_type": "text"
      },
      "cell_type": "markdown",
      "source": [
        "## 練習5\n",
        "\n",
        "![](figs/http://158.217.45.5/complang/figs_kadai05/kadai05_06.png)\n",
        "\n",
        "上のフローチャートと同じになるように下のプログラムを完成させてください．"
      ]
    },
    {
      "metadata": {
        "collapsed": true,
        "id": "1o-yGBXLdkW9",
        "colab_type": "code",
        "colab": {}
      },
      "cell_type": "code",
      "source": [
        "max = 0\n",
        "while True:\n",
        "    n = int(input(u\"数字を入力してください：\"))\n",
        "    if XXXXXXXX:\n",
        "        break\n",
        "    if XXXXXXXX:\n",
        "        max = n\n",
        "print( \"最大値：\", max)"
      ],
      "execution_count": 0,
      "outputs": []
    },
    {
      "metadata": {
        "id": "YfXVFgJUdkW_",
        "colab_type": "text"
      },
      "cell_type": "markdown",
      "source": [
        "## 練習6\n",
        "\n",
        "上記のプログラムは終了条件と実行条件を入れ替えて，下のように書くこともできます．\n",
        "\n",
        "![](http://158.217.45.5/complang/figs_kadai05/kadai05_07.png)\n",
        "\n",
        "これと同じになるように下のプログラムを完成させてください．"
      ]
    },
    {
      "metadata": {
        "collapsed": true,
        "id": "7axjM1-ldkXA",
        "colab_type": "code",
        "colab": {}
      },
      "cell_type": "code",
      "source": [
        "max = 0\n",
        "n = 1\n",
        "while n>0:\n",
        "    n = int(input(\"数字を入力してください：\"))\n",
        "    if XXXXXXXX:\n",
        "        max = n\n",
        "print( \"最大値：\", max)"
      ],
      "execution_count": 0,
      "outputs": []
    },
    {
      "metadata": {
        "id": "pLn-IVxPdkXB",
        "colab_type": "text"
      },
      "cell_type": "markdown",
      "source": [
        "## 関数\n",
        "\n",
        "関数とは，一連の処理をひとまとめにしたもの，あるいは，処理を行った後にある値を返すものです．\n",
        "\n",
        "関数は以下のように定義します．\n",
        "\n",
        "```python\n",
        "def 関数名 (パラメータ):\n",
        "   処理ブロック\n",
        "```\n",
        "\n",
        "while, for と同様に，処理ブロックは４つのスペースで字下げされている部分になります． \n",
        "\n",
        "___パラメータ___ の部分は関数が値を受け取るところで， __引数__ といいます．\n",
        "\n",
        "関数が変数の値を返す場合には ```return``` によって返します．\n",
        "\n",
        "```python\n",
        "def 関数名 (パラメータ):\n",
        "   処理ブロック\n",
        "   return 変数\n",
        "```\n",
        "\n",
        "例えば，「ある値を受け取って１を加えて返す」関数 ___plus___ は以下のように書くことができます．"
      ]
    },
    {
      "metadata": {
        "collapsed": true,
        "id": "WiFk3SpqdkXC",
        "colab_type": "code",
        "colab": {}
      },
      "cell_type": "code",
      "source": [
        "def plus(x):\n",
        "    x = x+1\n",
        "    return x\n",
        "\n",
        "plus(1)"
      ],
      "execution_count": 0,
      "outputs": []
    },
    {
      "metadata": {
        "id": "N5JkLjtvdkXD",
        "colab_type": "text"
      },
      "cell_type": "markdown",
      "source": [
        "注意点としては，関数を使う時には，必ずその前に定義されていなければならないということです．\n",
        "\n",
        "以下はエラーが出るプログラムの例"
      ]
    },
    {
      "metadata": {
        "collapsed": true,
        "id": "NrbgVOQCdkXE",
        "colab_type": "code",
        "colab": {}
      },
      "cell_type": "code",
      "source": [
        "print minus(1)   # 定義されていないのに，いきなり関数 minus が現れた！　エラーだ！\n",
        "\n",
        "def minus(x):\n",
        "    return x+1"
      ],
      "execution_count": 0,
      "outputs": []
    },
    {
      "metadata": {
        "collapsed": true,
        "id": "pihmbuhQdkXF",
        "colab_type": "code",
        "colab": {}
      },
      "cell_type": "code",
      "source": [
        "def minus(x):       # ここで定義されている\n",
        "    return x-1\n",
        "\n",
        "print minus(1)　    # 上で定義されているので，使える！"
      ],
      "execution_count": 0,
      "outputs": []
    },
    {
      "metadata": {
        "id": "EBi3k-8LdkXG",
        "colab_type": "text"
      },
      "cell_type": "markdown",
      "source": [
        "## 練習7\n",
        "\n",
        "下のプログラムで，引数として入力された値に3をかけて返す関数 kakesan を定義してください．\n"
      ]
    },
    {
      "metadata": {
        "collapsed": true,
        "id": "-c9qC4hldkXH",
        "colab_type": "code",
        "colab": {}
      },
      "cell_type": "code",
      "source": [
        "def XXXXXXXXXXXX\n",
        "XXXXXXXXXXXX\n",
        "XXXXXXXXXXXX\n",
        "\n",
        "\n",
        "x = kakesan(3)\n",
        "print(x)"
      ],
      "execution_count": 0,
      "outputs": []
    },
    {
      "metadata": {
        "id": "kr75X82ydkXI",
        "colab_type": "text"
      },
      "cell_type": "markdown",
      "source": [
        "## 定義済み処理\n",
        "\n",
        "![](http://158.217.45.5/complang/figs_kadai05/kadai05_08.png)\n",
        "\n",
        "フローチャートの __定義済み処理__ は，プログラムでは __関数(function)__ に相当します．\n",
        "\n",
        "while の例で出てきたループの中身部分を ```func()``` という関数でひとまとめにすると，以下のように書くことができます．"
      ]
    },
    {
      "metadata": {
        "collapsed": true,
        "id": "dIrTI2FpdkXJ",
        "colab_type": "code",
        "colab": {}
      },
      "cell_type": "code",
      "source": [
        "max = 0\n",
        "\n",
        "def func():\n",
        "    x = int(input(\"数字を入力してください:\"))\n",
        "    if x>max:\n",
        "        max = x\n",
        "    return x\n",
        "\n",
        "while True:\n",
        "    n = func()\n",
        "    if n<= 0:\n",
        "        break\n",
        "\n",
        "print(\"max=\",max)"
      ],
      "execution_count": 0,
      "outputs": []
    },
    {
      "metadata": {
        "id": "8B5Oa3BFdkXK",
        "colab_type": "text"
      },
      "cell_type": "markdown",
      "source": [
        "まず最大値を求める関数が ```func``` という名前で定義されていることに注意してください．この関数は値を他から受け取らないので，() の中が空で定義されています．\n",
        "\n",
        "そして関数が定義された後に，その処理を繰り返す whileループが続いています．"
      ]
    },
    {
      "metadata": {
        "id": "rXA3UIHGdkXK",
        "colab_type": "text"
      },
      "cell_type": "markdown",
      "source": [
        "## 練習8\n",
        "\n",
        "二次関数 y = x<sup>2</sup> - 6x + 9 について，x を -10 から 10 まで 0.1 ずつ動かした時の最小値とそのときの x の値を求めるプログラムを書いてみましょう．以下のプログラムの __XXXXXXXXXXXXXXXX__ には何を入れたらよいでしょうか？"
      ]
    },
    {
      "metadata": {
        "collapsed": true,
        "id": "ZwVKkNG3dkXL",
        "colab_type": "code",
        "colab": {}
      },
      "cell_type": "code",
      "source": [
        "def func(x):\n",
        "    return x**2-6*x+9\n",
        "\n",
        "x = -10.0\n",
        "min = 1000.0\n",
        "x_min = x\n",
        "while x<=10:\n",
        "    y = func(x)\n",
        "    if XXXXXXXXXXXXX:\n",
        "        min = XXXXXXXXXXXXXXX\n",
        "        x_min = x\n",
        "    x = XXXXXXXXXXXX\n",
        "\n",
        "print(\"最小値は{0:.1f}，その時のxの値は{1:.1f}\".format(min, x_min))"
      ],
      "execution_count": 0,
      "outputs": []
    },
    {
      "metadata": {
        "id": "0U7zMqj_dkXM",
        "colab_type": "text"
      },
      "cell_type": "markdown",
      "source": [
        "プログラムの出力は 「最小値は 0.0 その時のxの値は 3.0」と出力されれば合っています．"
      ]
    },
    {
      "metadata": {
        "id": "nZ4xy6A0dkXM",
        "colab_type": "text"
      },
      "cell_type": "markdown",
      "source": [
        "## 関数とスコープ\n",
        "基本的には，関数は引数や返り値を通して周囲とやりとりをしますし，多くの場合ではそのようにすべきです．こうすることで，情報の入力と出力がはっきりして，読みやすくなり，テストやデバッグがやりやすくなります．\n",
        "\n",
        "これはプログラムを理解しようとするときに，その場所の近辺さえ理解しさえすれば理解可能であるということです．もし他の場所で定義されたものまで考えなければならないとしたら，その関数が実行される文脈など多くのことを考慮しなければならず，理解が難しくなってしまいます．\n",
        "\n",
        "しかしながら，それでも，ときには，関数の外で定義した変数（広域変数（グローバル変数））にアクセスしたい場合もあります．そのときには，どうすればよいのでしょうか？ そんなときは ```global``` を使います．"
      ]
    },
    {
      "metadata": {
        "id": "ZxMQ1VWCdkXM",
        "colab_type": "text"
      },
      "cell_type": "markdown",
      "source": [
        "## 練習9\n",
        "\n",
        "下のプログラムの出力を調べ，1st:, 2nd:, 3rd: のそれぞれ後に出力される値を調べ， (1),(2),(3) として答えてください．"
      ]
    },
    {
      "metadata": {
        "collapsed": true,
        "id": "VNL9CoF0dkXN",
        "colab_type": "code",
        "colab": {}
      },
      "cell_type": "code",
      "source": [
        "a = 10\n",
        "\n",
        "def plus_one(x):\n",
        "    a = x+1\n",
        "\n",
        "def plus_two(x):\n",
        "    global a\n",
        "    a = x+2\n",
        "\n",
        "print( \"1st:\", a)\n",
        "plus_one(3)\n",
        "print( \"2nd:\", a)\n",
        "plus_two(4)\n",
        "print( \"3rd:\", a)"
      ],
      "execution_count": 0,
      "outputs": []
    },
    {
      "metadata": {
        "id": "kLJAz_iOdkXO",
        "colab_type": "text"
      },
      "cell_type": "markdown",
      "source": [
        "(1): XXX \n",
        "(2): XXX\n",
        "(3): XXX"
      ]
    },
    {
      "metadata": {
        "id": "lgTHviA4dkXO",
        "colab_type": "text"
      },
      "cell_type": "markdown",
      "source": [
        "## モジュール\n",
        "\n",
        "授業のスライドでは，別のファイルに書かれた関数を使いたいときには，モジュールとしてファイル名を呼び出す，ということを紹介しました．\n",
        "\n",
        "例えば，以下のような計算に関するライブラリ \"calc.py\" を作成したとします．\n",
        "\n",
        "```python\n",
        "def add(x,y):\n",
        "\treturn x+y\n",
        "def sub(x,y):\n",
        "\treturn x-y\n",
        "def mul(x,y):\n",
        "\treturn x*y\n",
        "```\n",
        "\n",
        "まずは，このコードが書かれたファイルを，以下のプログラムを実行してダウンロードしてください．（コードを理解する必要はありません）"
      ]
    },
    {
      "metadata": {
        "id": "2uISpNXNdkXP",
        "colab_type": "code",
        "colab": {}
      },
      "cell_type": "code",
      "source": [
        "import urllib.request\n",
        "\n",
        "url = \"http://158.217.45.5/complang/downloads/calc.py\" #ファイルのURL\n",
        "title = \"calc.py\" #保存するファイル名\n",
        "urllib.request.urlretrieve(url,title)"
      ],
      "execution_count": 0,
      "outputs": []
    },
    {
      "metadata": {
        "id": "0OWkVGDSdkXQ",
        "colab_type": "text"
      },
      "cell_type": "markdown",
      "source": [
        "ファイルのメニューを見ると，このファイルができているのが確認できると思います．\n",
        "それでは，このファイルに記述されている関数を使ってみましょう．"
      ]
    },
    {
      "metadata": {
        "collapsed": true,
        "id": "Erv_J3kGdkXQ",
        "colab_type": "code",
        "colab": {}
      },
      "cell_type": "code",
      "source": [
        "import calc\n",
        "\n",
        "a=2\n",
        "b=3\n",
        "\n",
        "x = calc.add(a,b)\n",
        "print(x)"
      ],
      "execution_count": 0,
      "outputs": []
    },
    {
      "metadata": {
        "id": "gxP-1UF8dkXS",
        "colab_type": "text"
      },
      "cell_type": "markdown",
      "source": [
        "ある関数だけを読み込むときには以下のようにできます．"
      ]
    },
    {
      "metadata": {
        "collapsed": true,
        "id": "G_iO29pVdkXS",
        "colab_type": "code",
        "colab": {}
      },
      "cell_type": "code",
      "source": [
        "from calc import add\n",
        "\n",
        "print( add(2,3) )"
      ],
      "execution_count": 0,
      "outputs": []
    },
    {
      "metadata": {
        "id": "33Cp5MjOdkXT",
        "colab_type": "text"
      },
      "cell_type": "markdown",
      "source": [
        "さらに，全ての関数を読み込むときには，全てという意味で * という記号を使って以下のように書くことができます．"
      ]
    },
    {
      "metadata": {
        "collapsed": true,
        "id": "EH3xFIo5dkXT",
        "colab_type": "code",
        "colab": {}
      },
      "cell_type": "code",
      "source": [
        "from calc import *\n",
        "\n",
        "print(\"input: 2,3\")\n",
        "print(\"add:\", add(2,3))\n",
        "print(\"sub:\", sub(2,3))\n",
        "print(\"mul:\", mul(2,3))"
      ],
      "execution_count": 0,
      "outputs": []
    },
    {
      "metadata": {
        "id": "oEg2RnQTdkXU",
        "colab_type": "text"
      },
      "cell_type": "markdown",
      "source": [
        "ただし，プログラムの規模が多くなってくると，あるファイルで定義された関数の名前が，別のファイルで定義された関数の名前と一緒になってしまい，意図しない挙動をしてしまうことが出てくるという問題が生じます．ですので，上記の書き方は推奨されていません．\n",
        "\n",
        "ですが，モジュールの名前を短く書けるように，以下のように，名前をつけ直すという書き方ができます．"
      ]
    },
    {
      "metadata": {
        "collapsed": true,
        "id": "SAMlZWe9dkXV",
        "colab_type": "code",
        "colab": {}
      },
      "cell_type": "code",
      "source": [
        "import calc as cal\n",
        "\n",
        "print( cal.add(2,3) )"
      ],
      "execution_count": 0,
      "outputs": []
    },
    {
      "metadata": {
        "id": "R5p5T5kBdkXW",
        "colab_type": "text"
      },
      "cell_type": "markdown",
      "source": [
        "\"calc\" というモジュールを cal という名前として(as) 使うという意味ですね．\n",
        "\n",
        "以下のプログラムを試してください．また，別の書き方ができるということも試してください．"
      ]
    },
    {
      "metadata": {
        "collapsed": true,
        "id": "rJMoqnZidkXW",
        "colab_type": "code",
        "colab": {}
      },
      "cell_type": "code",
      "source": [
        "import calc\n",
        "\n",
        "a = 2\n",
        "b = 3\n",
        "\n",
        "print( calc.add(a,b) )\n",
        "print( calc.sub(a,b) )\n",
        "print( calc.mul(a,b) )"
      ],
      "execution_count": 0,
      "outputs": []
    },
    {
      "metadata": {
        "id": "doXrP0OydkXX",
        "colab_type": "text"
      },
      "cell_type": "markdown",
      "source": [
        "## 練習10\n",
        "\n",
        "Python にあらかじめ組み込まれているモジュールも同様に呼び出すことができます．Python にはデフォルトで非常に[多くのモジュール](https://docs.python.jp/3/library/)が用意されています．\n",
        "\n",
        "ここでは，そのいくつかを呼び出してみましょう．\n",
        "\n",
        "A. [calendar](https://news.mynavi.jp/article/zeropython-20/) というモジュールは指定した年月のカレンダーを表示してくれます．\n",
        "以下の関数が機能するように，XXXXXX を書き換えてください．"
      ]
    },
    {
      "metadata": {
        "collapsed": true,
        "id": "Yz6nPstjdkXX",
        "colab_type": "code",
        "colab": {}
      },
      "cell_type": "code",
      "source": [
        " import calendar as XXXXXXXXXXXXX\n",
        " print(cal.month(2018, 10)) # 2018年10月のカレンダーを表示"
      ],
      "execution_count": 0,
      "outputs": []
    },
    {
      "metadata": {
        "id": "SFEIx9t9dkXY",
        "colab_type": "text"
      },
      "cell_type": "markdown",
      "source": [
        "B. 乱数はガチャなどのくじを作ったりするときに重要です．random というモジュールは乱数を生成してくれます．\n",
        "以下の関数が機能するように，XXXXXX を書き換えてください．"
      ]
    },
    {
      "metadata": {
        "id": "PXbK_sfVdkXZ",
        "colab_type": "code",
        "colab": {}
      },
      "cell_type": "code",
      "source": [
        "import random as rand\n",
        "\n",
        "for i in range(10):\n",
        "    x = XXXXXX.rand(1,10)   #1 から 10 の中から乱数を生成する\n",
        "    print(x)"
      ],
      "execution_count": 0,
      "outputs": []
    },
    {
      "metadata": {
        "id": "SaOgbir8dkXZ",
        "colab_type": "text"
      },
      "cell_type": "markdown",
      "source": [
        "## 課題提出"
      ]
    },
    {
      "metadata": {
        "id": "Kwt7XcgodkXa",
        "colab_type": "text"
      },
      "cell_type": "markdown",
      "source": [
        "名前："
      ]
    },
    {
      "metadata": {
        "id": "o6u9gVSxdkXa",
        "colab_type": "text"
      },
      "cell_type": "markdown",
      "source": [
        "学籍番号："
      ]
    },
    {
      "metadata": {
        "id": "Mtchqv2ZdkXa",
        "colab_type": "text"
      },
      "cell_type": "markdown",
      "source": [
        "感想："
      ]
    },
    {
      "metadata": {
        "id": "_KXsrlaJdkXb",
        "colab_type": "text"
      },
      "cell_type": "markdown",
      "source": [
        "ファイルを保存したら，以下のリンクからファイルをアップロードしてください．\n",
        "\n",
        "* [アップロードサイト](http://158.217.45.5:8085/upload)"
      ]
    }
  ]
}