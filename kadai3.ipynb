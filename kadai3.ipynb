{
 "cells": [
  {
   "cell_type": "markdown",
   "metadata": {},
   "source": [
    "# コンピュータの言語2019: 課題３\n"
   ]
  },
  {
   "cell_type": "code",
   "execution_count": null,
   "metadata": {},
   "outputs": [],
   "source": []
  },
  {
   "cell_type": "markdown",
   "metadata": {},
   "source": [
    "# データ型(type)\n",
    "\n",
    "プログラムにはどんな言語にも様々なデータの型があります．Python には以下の型があります．\n",
    "\n",
    "* __数値型__\n",
    "\t* 整数 (_int_)\n",
    "\t* 浮動小数点（_float_）\n",
    "* __文字列型__ (_str_)\n",
    "* __真偽型__ (_bool_)\n",
    "\n",
    "そして，それらを複数集めて一緒に使うための型があります．\n",
    "\n",
    "* __リスト型__ (_list_)\n",
    "* __辞書型__ (_dict_)\n",
    "* __タプル型__ (_tuple_)\n",
    "\n",
    "今回は上の，数値型，文字列型，論理型について扱います．\n",
    "\n",
    "__以下では，例にある計算や式を下のセルに入力して実行してください__\n",
    "（できるだけコピペではなく，キーボードで入力してキーボード入力に慣れるようにしてください）\n",
    "\n",
    "__プログラムの実行は，実行したい行（セル）を選択して shiftキーを押しながらenter(またはreturn) キーを押します．__"
   ]
  },
  {
   "cell_type": "markdown",
   "metadata": {},
   "source": [
    "## 数値型\n",
    "\n",
    "数値については前回紹介しましたね．\n",
    "\n",
    "### 整数\n",
    "```python\n",
    "1+1\n",
    "```"
   ]
  },
  {
   "cell_type": "code",
   "execution_count": null,
   "metadata": {
    "collapsed": true
   },
   "outputs": [],
   "source": []
  },
  {
   "cell_type": "markdown",
   "metadata": {},
   "source": [
    "### 浮動小数点\n",
    "浮動小数点数であることを明示するために ```.0``` をつけます．\n",
    "```python\n",
    "1.0+1.0\n",
    "```"
   ]
  },
  {
   "cell_type": "code",
   "execution_count": null,
   "metadata": {
    "collapsed": true
   },
   "outputs": [],
   "source": []
  },
  {
   "cell_type": "markdown",
   "metadata": {},
   "source": [
    "整数と浮動小数点の数を一緒に計算すると，自動的に__型変換__が行われて，結果は不動小数点型になります．\n",
    "```python\n",
    "1+2.0\n",
    "```"
   ]
  },
  {
   "cell_type": "code",
   "execution_count": null,
   "metadata": {
    "collapsed": true
   },
   "outputs": [],
   "source": []
  },
  {
   "cell_type": "markdown",
   "metadata": {},
   "source": [
    "## 文字列\n",
    "\n",
    "\" \" や '' の記号で囲まれた文字が___文字列___として扱われます．どちらの記号を使っても構いません．\n",
    "```python\n",
    "\"Hello\"\n",
    "```"
   ]
  },
  {
   "cell_type": "code",
   "execution_count": null,
   "metadata": {
    "collapsed": true
   },
   "outputs": [],
   "source": []
  },
  {
   "cell_type": "markdown",
   "metadata": {},
   "source": [
    "```python\n",
    "'Hello'\n",
    "```"
   ]
  },
  {
   "cell_type": "code",
   "execution_count": null,
   "metadata": {
    "collapsed": true
   },
   "outputs": [],
   "source": []
  },
  {
   "cell_type": "markdown",
   "metadata": {},
   "source": [
    "文字列型での足し算は，二つの文字列をくっつける操作になります．\n",
    "```python\n",
    "'Hello' + 'Python'\n",
    "```"
   ]
  },
  {
   "cell_type": "code",
   "execution_count": null,
   "metadata": {
    "collapsed": true
   },
   "outputs": [],
   "source": []
  },
  {
   "cell_type": "markdown",
   "metadata": {},
   "source": [
    "数字も \"\" で囲まれると文字列として扱われます．例えば，数字の 1 と文字の 1 の足し算をするとエラーになります．\n",
    "```python\n",
    "1 + '1'\n",
    "```"
   ]
  },
  {
   "cell_type": "code",
   "execution_count": null,
   "metadata": {
    "collapsed": true
   },
   "outputs": [],
   "source": []
  },
  {
   "cell_type": "markdown",
   "metadata": {},
   "source": [
    "上のエラー表示の ___TypeError___ は「型のエラー」ということですね．int（整数）と str（文字列）では足し算ができないと怒られます．"
   ]
  },
  {
   "cell_type": "markdown",
   "metadata": {},
   "source": [
    "### 型の確認と変換"
   ]
  },
  {
   "cell_type": "markdown",
   "metadata": {},
   "source": [
    "型の確認は ```type()``` という関数で確かめることができます．\n",
    "```python\n",
    "type(1), type(1.0), type('hello')\n",
    "```"
   ]
  },
  {
   "cell_type": "code",
   "execution_count": null,
   "metadata": {
    "collapsed": true
   },
   "outputs": [],
   "source": []
  },
  {
   "cell_type": "code",
   "execution_count": null,
   "metadata": {},
   "outputs": [],
   "source": []
  },
  {
   "cell_type": "code",
   "execution_count": null,
   "metadata": {},
   "outputs": [],
   "source": []
  },
  {
   "cell_type": "markdown",
   "metadata": {},
   "source": [
    "異なる型どうしでも適切に型の変換をしてやることで演算をすることができます．型変換をする関数には ```int(), float(), str()``` があります．\n",
    "```python\n",
    "1 + int('1')   # '1' を整数型の1として扱ってほしい\n",
    "```"
   ]
  },
  {
   "cell_type": "code",
   "execution_count": null,
   "metadata": {
    "collapsed": true
   },
   "outputs": [],
   "source": []
  },
  {
   "cell_type": "markdown",
   "metadata": {},
   "source": [
    "```python\n",
    "str(1) + '2'   # 1 を 文字列型の'1' として扱ってほしい \n",
    "```"
   ]
  },
  {
   "cell_type": "code",
   "execution_count": null,
   "metadata": {
    "collapsed": true
   },
   "outputs": [],
   "source": []
  },
  {
   "cell_type": "markdown",
   "metadata": {},
   "source": [
    "## 真偽型\n",
    "\n",
    "論理型，ブール型とも言います．__真(True)__か__偽(False)__の２つの値だけを示す場合に使われます．以下では２つの数値を比較する演算子（__比較演算子__) の結果が真偽型で表示されている例です．\n",
    "```python\n",
    "3>1\n",
    "```"
   ]
  },
  {
   "cell_type": "code",
   "execution_count": null,
   "metadata": {
    "collapsed": true
   },
   "outputs": [],
   "source": []
  },
  {
   "cell_type": "markdown",
   "metadata": {},
   "source": [
    "```python\n",
    "3<1\n",
    "```"
   ]
  },
  {
   "cell_type": "code",
   "execution_count": null,
   "metadata": {
    "collapsed": true
   },
   "outputs": [],
   "source": []
  },
  {
   "cell_type": "markdown",
   "metadata": {},
   "source": [
    "比較演算子には以下のようなものがあります．\n",
    "\n",
    "|演算子| 使用例 | 意味 |\n",
    "|------|--------|------|\n",
    "| == | a==b | a と b が等しければ True |\n",
    "| != | a!=b | a と b が違うなら True |\n",
    "| < | a<b | a が b 未満なら True |\n",
    "| <= | a<=b | a が b 以下なら True |\n",
    "| >= | a>=b | a が b 以上なら True |\n",
    "| > | a>b | aがbより大きいなら True |\n",
    "\n",
    "他の言語と異なり，２つの比較をつなげることができます．\n",
    "```python\n",
    "print( 1<2<3 )\n",
    "print( 2<3<1 )\n",
    "```"
   ]
  },
  {
   "cell_type": "code",
   "execution_count": null,
   "metadata": {
    "collapsed": true
   },
   "outputs": [],
   "source": [
    "\n"
   ]
  },
  {
   "cell_type": "markdown",
   "metadata": {},
   "source": [
    "## 論理演算\n",
    "\n",
    "論理型には ```and``` や ```or``` などの演算子があります．\n",
    "```python\n",
    "True and False\n",
    "```"
   ]
  },
  {
   "cell_type": "code",
   "execution_count": null,
   "metadata": {
    "collapsed": true
   },
   "outputs": [],
   "source": []
  },
  {
   "cell_type": "markdown",
   "metadata": {},
   "source": [
    "```python\n",
    "True or False\n",
    "```"
   ]
  },
  {
   "cell_type": "code",
   "execution_count": null,
   "metadata": {
    "collapsed": true
   },
   "outputs": [],
   "source": []
  },
  {
   "cell_type": "markdown",
   "metadata": {},
   "source": [
    "True と 1 False と 0 は同じものとして扱われます．\n",
    "```python\n",
    "True==1\n",
    "```"
   ]
  },
  {
   "cell_type": "code",
   "execution_count": null,
   "metadata": {
    "collapsed": true
   },
   "outputs": [],
   "source": []
  },
  {
   "cell_type": "markdown",
   "metadata": {},
   "source": [
    "```python\n",
    "False==0\n",
    "```"
   ]
  },
  {
   "cell_type": "code",
   "execution_count": null,
   "metadata": {
    "collapsed": true
   },
   "outputs": [],
   "source": []
  },
  {
   "cell_type": "markdown",
   "metadata": {},
   "source": [
    "```not``` は否定です．\n",
    "```python\n",
    "print(not True)\n",
    "print(not False)\n",
    "```"
   ]
  },
  {
   "cell_type": "code",
   "execution_count": null,
   "metadata": {
    "collapsed": true
   },
   "outputs": [],
   "source": [
    "\n"
   ]
  },
  {
   "cell_type": "markdown",
   "metadata": {},
   "source": [
    "「6 は2で割り切れ，かつ3でも割り切れる」は真でしょうか偽でしょうか？\n",
    "\n",
    "「6が2で割り切れる」は 「6を2で割った余りが0である」ということですから，```6%2==0```　とかけます．\n",
    "\n",
    "「かつ」は ```and``` ですから以下のように書くことができます．\n",
    "\n",
    "```python\n",
    "(6%2==0) and (6%3==0)\n",
    "```"
   ]
  },
  {
   "cell_type": "code",
   "execution_count": null,
   "metadata": {
    "collapsed": true
   },
   "outputs": [],
   "source": []
  },
  {
   "cell_type": "markdown",
   "metadata": {},
   "source": [
    "# 変数\n",
    "\n",
    "プログラムではデータをそのまま扱うことは稀で，ふつうデータに名前をつけて操作を行います．この名前のことを __変数__ といいます．\n",
    "\n",
    "Python では変数が何のデータ型なのかを指定せずに，すぐに定義することができます．\n",
    "\n",
    "```python\n",
    "x = 3      # 3 という数字を用意して，それに x という名前をつける\n",
    "print(x)   # x の中身を出力する\n",
    "```"
   ]
  },
  {
   "cell_type": "code",
   "execution_count": null,
   "metadata": {
    "collapsed": true
   },
   "outputs": [],
   "source": [
    "\n"
   ]
  },
  {
   "cell_type": "markdown",
   "metadata": {},
   "source": [
    "変数を初めて宣言する時に，型を指定しなくてもよいのは，よい面もありますが，悪い面もあります．他の人のプログラムを見た時に，その変数がどのような型で使われているのかわからない時があるからです．そんな時は，```type``` 関数で型を調べることが助けになります．\n",
    "\n",
    "```python\n",
    "x = 3 \n",
    "print(x)\n",
    "print(type(x))\n",
    "\n",
    "x = \"Hello\"\n",
    "print(x)\n",
    "print(type(x))\n",
    "```"
   ]
  },
  {
   "cell_type": "code",
   "execution_count": 2,
   "metadata": {
    "collapsed": true
   },
   "outputs": [
    {
     "name": "stdout",
     "output_type": "stream",
     "text": [
      "3\n",
      "<class 'int'>\n",
      "Hello\n",
      "<class 'str'>\n"
     ]
    }
   ],
   "source": [
    "x=3\n",
    "print(x)\n",
    "print(type(x))\n",
    "\n",
    "x = \"Hello\"\n",
    "print(x)\n",
    "print(type(x))\n",
    "\n"
   ]
  },
  {
   "cell_type": "markdown",
   "metadata": {},
   "source": [
    "## print"
   ]
  },
  {
   "cell_type": "markdown",
   "metadata": {},
   "source": [
    "```print``` 命令で変数の値を出力するときに，変数の数値や文字を文の中に埋め込むとわかりやすい出力になります．\n",
    "\n",
    "\n",
    "そのためには，文字列型のformat というメソッドを使います．"
   ]
  },
  {
   "cell_type": "code",
   "execution_count": null,
   "metadata": {
    "collapsed": true
   },
   "outputs": [],
   "source": [
    "x=3\n",
    "print( \"xの値は{}です\".format(x) )"
   ]
  },
  {
   "cell_type": "code",
   "execution_count": null,
   "metadata": {
    "collapsed": true
   },
   "outputs": [],
   "source": [
    "x=\"This is a pen.\"\n",
    "y=\"これはペンです\"\n",
    "print( \"「{}」の日本語訳は「{}」です．\".format(x,y) )"
   ]
  },
  {
   "cell_type": "markdown",
   "metadata": {},
   "source": [
    "また，python3.6 からはf文字列という表記でも，変数を文字列に埋め込むことができます．文字列の前に f または F を書き，{} の中に変数名を書きます．こちらの方が簡単ですね．"
   ]
  },
  {
   "cell_type": "code",
   "execution_count": 1,
   "metadata": {},
   "outputs": [
    {
     "name": "stdout",
     "output_type": "stream",
     "text": [
      "xの値は3です\n"
     ]
    }
   ],
   "source": [
    "x = 3\n",
    "print( f'xの値は{x}です')\n",
    "x = 'Good morning!'\n",
    "y = 'おはよう'\n",
    "print( f'{x}の日本語訳は{y}です．' )"
   ]
  },
  {
   "cell_type": "markdown",
   "metadata": {},
   "source": [
    "# 課題\n",
    "\n",
    "__[1]__  文字列に対して * の演算子を使うと結果はどうなるでしょう．以下のプログラムの結果を下に書いて出力を調べてください．\n",
    "\n",
    "```python\n",
    "\"hello\"*4\n",
    "```"
   ]
  },
  {
   "cell_type": "code",
   "execution_count": null,
   "metadata": {
    "collapsed": true,
    "problem": 1
   },
   "outputs": [],
   "source": []
  },
  {
   "cell_type": "markdown",
   "metadata": {},
   "source": [
    "__[2]__ 100円のノートを3冊，140円の消しゴムを2つを1割引で購入しました． 消費税を10%として，支払い金額を求めるために，以下の式の XXXX, YYYY, ZZZZ の部分を編集して完成させてください．"
   ]
  },
  {
   "cell_type": "code",
   "execution_count": null,
   "metadata": {
    "collapsed": true,
    "problem": 2
   },
   "outputs": [],
   "source": [
    "pay =  (XXXX*3 + YYYY*2)*0.9*ZZZZ\n",
    "print(pay)"
   ]
  },
  {
   "cell_type": "markdown",
   "metadata": {},
   "source": [
    "__[3]__ x は「10よりも大きく30よりも小さい」かつ「6で割ったあまりが2で割り切れる」という条件にあえば True 合わなかったら False が出力されるように，以下のプログラムを完成しなさい．"
   ]
  },
  {
   "cell_type": "code",
   "execution_count": null,
   "metadata": {
    "collapsed": true,
    "problem": 3
   },
   "outputs": [],
   "source": [
    "x = 20\n",
    "hantei = (XXXXXX) and (YYYYYY)\n",
    "print(hantei)"
   ]
  },
  {
   "cell_type": "markdown",
   "metadata": {},
   "source": [
    "__[4]__ y は100以下の数で2で割っても3で割っても割り切れる数であれば True, そうでなければ False を出力するように，以下のプログラムを完成してください．"
   ]
  },
  {
   "cell_type": "code",
   "execution_count": null,
   "metadata": {
    "collapsed": true,
    "problem": 4
   },
   "outputs": [],
   "source": [
    "y = 24\n",
    "hantei =  (XXXXXX) and (YYYYYY)\n",
    "print(hantei)"
   ]
  },
  {
   "cell_type": "markdown",
   "metadata": {},
   "source": [
    "__[5]__ 以下のプログラムを改変して，「阿部寛は2018年に..歳になります」と出力するように，以下の式の XXXX, YYYY, ZZZZ の部分を編集してください．"
   ]
  },
  {
   "cell_type": "code",
   "execution_count": null,
   "metadata": {
    "collapsed": true,
    "problem": 5
   },
   "outputs": [],
   "source": [
    "year_birth = 1964\n",
    "year_now   = 2019\n",
    "age = XXXXXXXX\n",
    "print(f\"阿部寛は{YYYYY}年に{ZZZZZZ}歳になります\")"
   ]
  },
  {
   "cell_type": "markdown",
   "metadata": {},
   "source": [
    "# 課題の提出"
   ]
  },
  {
   "cell_type": "markdown",
   "metadata": {},
   "source": [
    "名前："
   ]
  },
  {
   "cell_type": "markdown",
   "metadata": {},
   "source": [
    "学籍番号："
   ]
  },
  {
   "cell_type": "markdown",
   "metadata": {},
   "source": [
    "感想："
   ]
  },
  {
   "cell_type": "markdown",
   "metadata": {},
   "source": [
    "ファイルを保存したら，以下のリンクからファイルをアップロードしてください．\n",
    "\n",
    "* [アップロードサイト](http://158.217.45.5:8083/upload)"
   ]
  }
 ],
 "metadata": {
  "anaconda-cloud": {},
  "kernelspec": {
   "display_name": "Python 3",
   "language": "python",
   "name": "python3"
  },
  "language_info": {
   "codemirror_mode": {
    "name": "ipython",
    "version": 3
   },
   "file_extension": ".py",
   "mimetype": "text/x-python",
   "name": "python",
   "nbconvert_exporter": "python",
   "pygments_lexer": "ipython3",
   "version": "3.7.3"
  }
 },
 "nbformat": 4,
 "nbformat_minor": 2
}
