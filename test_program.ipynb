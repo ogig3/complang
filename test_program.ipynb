{
 "cells": [
  {
   "cell_type": "markdown",
   "metadata": {},
   "source": [
    "# コンピュータの言語：テスト案"
   ]
  },
  {
   "cell_type": "markdown",
   "metadata": {},
   "source": [
    "## アルゴリズムの基礎：順次・繰り返し・分岐\n",
    "\n",
    "### 1.\n",
    "以下のプログラムを Python で書いてください．\n",
    "![](http://158.217.45.5/complang/figs_kadai04/kadai04_01.png)"
   ]
  },
  {
   "cell_type": "code",
   "execution_count": null,
   "metadata": {},
   "outputs": [],
   "source": []
  },
  {
   "cell_type": "markdown",
   "metadata": {},
   "source": [
    "### 2. \n",
    "以下のプログラムを Python で書いてください．\n",
    "![](http://158.217.45.5/complang/figs_kadai04/kadai04_02.png)"
   ]
  },
  {
   "cell_type": "code",
   "execution_count": null,
   "metadata": {},
   "outputs": [],
   "source": []
  },
  {
   "cell_type": "markdown",
   "metadata": {},
   "source": [
    "### 3.\n",
    "8本足のタコと10本足のイカがいます．タコとイカの数を入力すると，頭の数と足の数を出力するプログラムを作成してください．"
   ]
  },
  {
   "cell_type": "code",
   "execution_count": null,
   "metadata": {},
   "outputs": [],
   "source": []
  },
  {
   "cell_type": "markdown",
   "metadata": {},
   "source": [
    "### 4.\n",
    "以下のプログラムを Python で書いてください．\n",
    "![](http://158.217.45.5/complang/figs_kadai04/kadai04_03.png)"
   ]
  },
  {
   "cell_type": "code",
   "execution_count": null,
   "metadata": {},
   "outputs": [],
   "source": []
  },
  {
   "cell_type": "markdown",
   "metadata": {},
   "source": [
    "### 5.\n",
    "以下のフローチャートを完成させて Python でプログラムを書いてください．\n",
    "![](http://158.217.45.5/complang/figs_kadai04/kadai04_04.png)"
   ]
  },
  {
   "cell_type": "code",
   "execution_count": null,
   "metadata": {},
   "outputs": [],
   "source": []
  },
  {
   "cell_type": "markdown",
   "metadata": {},
   "source": [
    "### 6.\n",
    "\n",
    "以下のフローチャートを完成させてPythonプログラムを作成してください．\n",
    "\n",
    "![](http://158.217.45.5/complang/figs_kadai04/kadai04_05.png)"
   ]
  },
  {
   "cell_type": "code",
   "execution_count": null,
   "metadata": {},
   "outputs": [],
   "source": []
  },
  {
   "cell_type": "markdown",
   "metadata": {},
   "source": [
    "### 7.\n",
    "以下のフローチャートに相当するPythonプログラムを書いてください．\n",
    "\n",
    "![](http://158.217.45.5/complang/figs_kadai04/kadai04_06.png)"
   ]
  },
  {
   "cell_type": "code",
   "execution_count": null,
   "metadata": {},
   "outputs": [],
   "source": []
  },
  {
   "cell_type": "markdown",
   "metadata": {},
   "source": [
    "### 8.\n",
    "以下のフローチャートに相当するPythonプログラムを書いてください．\n",
    "\n",
    "\n",
    "![](http://158.217.45.5/complang/figs_kadai04/kadai04_07.png)"
   ]
  },
  {
   "cell_type": "code",
   "execution_count": null,
   "metadata": {},
   "outputs": [],
   "source": []
  },
  {
   "cell_type": "markdown",
   "metadata": {},
   "source": [
    "### 9.\n",
    "\n",
    "BMI は身長$h[m]$と体重$w[kg]$から以下の式で計算することができます．\n",
    "\n",
    "$$\n",
    "BMI = \\frac{w}{h^2}\n",
    "$$\n",
    "\n",
    "この数字を元に\n",
    "\n",
    "| BMI | 評価 |\n",
    "|----| -----|\n",
    "| 18.5未満 | やせている |\n",
    "| 18.5以上25未満 | ふつう |\n",
    "| 25以上35未満 | ちょっと太っている |\n",
    "| 35以上 | かなり太っている |\n",
    "\n",
    "のように評価されます．\n",
    "\n",
    "身長と体重を入力したらBMIの評価が表示されるように，Python プログラムを作成してください．（単位に注意）"
   ]
  },
  {
   "cell_type": "code",
   "execution_count": null,
   "metadata": {},
   "outputs": [],
   "source": []
  },
  {
   "cell_type": "markdown",
   "metadata": {},
   "source": [
    "### 10. \n",
    "FizzBuzz のプログラムを作成してください．\n",
    "\n",
    "1から100までの数を，以下のルールに従ってプリントしてください．\n",
    "* 3の倍数のときは数の代わりに｢Fizz｣\n",
    "* 5の倍数のときは｢Buzz｣\n",
    "* 3と5両方の倍数の場合には｢FizzBuzz｣"
   ]
  },
  {
   "cell_type": "code",
   "execution_count": null,
   "metadata": {},
   "outputs": [],
   "source": []
  },
  {
   "cell_type": "markdown",
   "metadata": {},
   "source": [
    "### 11.\n",
    "\n",
    "次のフローチャートに相当する Python プログラムを while を使って書いてください．\n",
    "\n",
    "![](http://158.217.45.5/complang/figs_kadai05/kadai05_01.png)"
   ]
  },
  {
   "cell_type": "code",
   "execution_count": null,
   "metadata": {},
   "outputs": [],
   "source": []
  },
  {
   "cell_type": "markdown",
   "metadata": {},
   "source": [
    "### 12.\n",
    "\n",
    "次のフローチャートを完成させ，それに相当する Python プログラムを while を使って書いてください．\n",
    "\n",
    "![](http://158.217.45.5/complang/figs_kadai05/kadai05_04.png)"
   ]
  },
  {
   "cell_type": "code",
   "execution_count": null,
   "metadata": {},
   "outputs": [],
   "source": []
  },
  {
   "cell_type": "markdown",
   "metadata": {},
   "source": [
    "### 13.\n",
    "\n",
    "あるウィルスの感染者数は１日あたり2.3%ずつ増えていくことがわかっているとします．ある日の感染者は100人でした．感染者が100,000人を超えるのは何日後になるでしょうか？それを求めるためのプログラムをPython で作成してください．"
   ]
  },
  {
   "cell_type": "code",
   "execution_count": null,
   "metadata": {},
   "outputs": [],
   "source": []
  },
  {
   "cell_type": "markdown",
   "metadata": {},
   "source": [
    "### 14.\n",
    "\n",
    "引数として入力された値に3をかけて返す関数 kakesan を定義してください．"
   ]
  },
  {
   "cell_type": "code",
   "execution_count": null,
   "metadata": {},
   "outputs": [],
   "source": []
  },
  {
   "cell_type": "markdown",
   "metadata": {},
   "source": [
    "### 15.\n",
    "「__リストの番号 a から番号 b までの中から最小の数を見つける__」ということを目標にしましょう．以下のプログラムの ***(1)*** と ***(2)*** に適切なものを入れてプログラムを完成させてください．"
   ]
  },
  {
   "cell_type": "code",
   "execution_count": null,
   "metadata": {},
   "outputs": [],
   "source": [
    "data = [9,3,6,4,1,10]\n",
    "\n",
    "a = 0 #最初のインデックス\n",
    "b = 3 #最後のインデックス\n",
    "\n",
    "min_val = data[a]    # 最小値．最初は仮に番号 a の値にしておく\n",
    "min_pos = a           # 最小値の場所．最初は仮に a としておく\n",
    "\n",
    "for i in range(***(1)***):\n",
    "    print( i)\n",
    "    if ***(2)***:   # もし現在の最小値よりも小さかったら\n",
    "        min_val = data[i]\n",
    "        min_pos = i\n",
    "\n",
    "print( \"min_val=\", min_val)   # 最小値の値を出力\n",
    "print( \"min_pos=\", min_pos)   # 最小値の場所を出力"
   ]
  },
  {
   "cell_type": "markdown",
   "metadata": {},
   "source": [
    "### 16.\n",
    "\n",
    "変数 a と b の値を入れ替えるプログラムを作成してください．"
   ]
  },
  {
   "cell_type": "code",
   "execution_count": null,
   "metadata": {},
   "outputs": [],
   "source": []
  },
  {
   "cell_type": "markdown",
   "metadata": {},
   "source": [
    "## 17. \n",
    "\n",
    "リストから最小値を見つける関数と入れ替えの関数を使って選択ソートのプログラムを書いてください．"
   ]
  },
  {
   "cell_type": "code",
   "execution_count": null,
   "metadata": {},
   "outputs": [],
   "source": [
    "######################################\n",
    "# 関数の定義\n",
    "######################################\n",
    "def min_toru(data, a, b):  # data の場所 a から b の中から最小値を探す\n",
    "    min_val = data[a]\n",
    "    min_pos = a\n",
    "    for i in range(***(1)***):\n",
    "        if ***(2)***:\n",
    "            min_val = data[i]\n",
    "            min_pos = i\n",
    "    return min_pos, min_val\n",
    "\n",
    "def irekae( data, a, b):  # data の a の場所と b の場所の値を入れ替える\n",
    "    temp = data[a]\n",
    "    data[a] = data[b]\n",
    "    data[b] = temp\n",
    "\n",
    "\n",
    "    "
   ]
  },
  {
   "cell_type": "markdown",
   "metadata": {},
   "source": [
    "つづく\n"
   ]
  }
 ],
 "metadata": {
  "kernelspec": {
   "display_name": "Python [conda env:anaconda3-4.2.0]",
   "language": "python",
   "name": "conda-env-anaconda3-4.2.0-py"
  },
  "language_info": {
   "codemirror_mode": {
    "name": "ipython",
    "version": 3
   },
   "file_extension": ".py",
   "mimetype": "text/x-python",
   "name": "python",
   "nbconvert_exporter": "python",
   "pygments_lexer": "ipython3",
   "version": "3.5.2"
  }
 },
 "nbformat": 4,
 "nbformat_minor": 2
}
