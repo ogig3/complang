{
  "nbformat": 4,
  "nbformat_minor": 0,
  "metadata": {
    "colab": {
      "name": "kadai4.ipynb のコピー",
      "version": "0.3.2",
      "provenance": [],
      "collapsed_sections": []
    },
    "kernelspec": {
      "name": "python3",
      "display_name": "Python 3"
    }
  },
  "cells": [
    {
      "metadata": {
        "id": "yKB9b383UC05",
        "colab_type": "text"
      },
      "cell_type": "markdown",
      "source": [
        "# コンピュータの言語：課題４\n",
        "\n",
        "今回の授業の練習で扱ったフローチャートを Python のプログラムで書いてみましょう．"
      ]
    },
    {
      "metadata": {
        "id": "0i0UtnZDUC0-",
        "colab_type": "text"
      },
      "cell_type": "markdown",
      "source": [
        "## Python での順次構造\n",
        "\n",
        "通常，プログラムは上から下へと実行されますので，複数行のプログラムを書けば，そのまま順次構造となります．\n",
        "\n",
        "## 練習1\n",
        "\n",
        "![](http://158.217.45.5/complang/figs_kadai04/kadai04_01.png)\n",
        "\n",
        "これは簡単ですね．\n",
        "```python\n",
        "a = 3\n",
        "b = 5\n",
        "print(a * b)\n",
        "```"
      ]
    },
    {
      "metadata": {
        "check": 1,
        "id": "9ttiDyprUC1C",
        "colab_type": "code",
        "colab": {}
      },
      "cell_type": "code",
      "source": [
        "a = 3\n",
        "b = 5\n",
        "print(a * b)"
      ],
      "execution_count": 0,
      "outputs": []
    },
    {
      "metadata": {
        "id": "b2pe5qhMUC1J",
        "colab_type": "text"
      },
      "cell_type": "markdown",
      "source": [
        "## ユーザーからの入力\n",
        "\n",
        "python でユーザーからの入力を受け付けるときには ```input()```　という関数を使います．\n",
        "\n",
        "```python\n",
        "a = input()\n",
        "print(a)\n",
        "```\n",
        "\n",
        "```input()``` はユーザーからの入力を __文字列(string)__ として受け付けて返します．この場合は a は文字として扱われ，```a*3``` のように書くと，その文字を３回繰り返したものが出力されます．"
      ]
    },
    {
      "metadata": {
        "check": 2,
        "id": "lqrv01LsUC1O",
        "colab_type": "code",
        "colab": {}
      },
      "cell_type": "code",
      "source": [
        "a = input(\"数を入力してください\")\n",
        "print(a*3)"
      ],
      "execution_count": 0,
      "outputs": []
    },
    {
      "metadata": {
        "id": "XlD5o1O8UC1S",
        "colab_type": "text"
      },
      "cell_type": "markdown",
      "source": [
        "例えば 3 を入力すると 9 にはならずに，３回繰り返しで表示されていますね（文字列*3 は３回繰り返して表示するという命令になります）．__整数__ として入力を受け付けるために，文字を __整数(integer)__ に変換する関数 ```int()``` を使います．"
      ]
    },
    {
      "metadata": {
        "check": 3,
        "id": "tlG16vosUC1T",
        "colab_type": "code",
        "colab": {}
      },
      "cell_type": "code",
      "source": [
        "a = input(\"数を入力してください\")\n",
        "b = int(a)\n",
        "print(b*3)"
      ],
      "execution_count": 0,
      "outputs": []
    },
    {
      "metadata": {
        "id": "OxKSdx60UC1Y",
        "colab_type": "text"
      },
      "cell_type": "markdown",
      "source": [
        "## 練習2\n",
        "\n",
        "それでは，```input()``` を使って問題をやってみましょう．\n",
        "\n",
        "![](http://158.217.45.5/complang/figs_kadai04/kadai04_02.png)"
      ]
    },
    {
      "metadata": {
        "check": 4,
        "id": "aAssusbOUC1Z",
        "colab_type": "code",
        "colab": {}
      },
      "cell_type": "code",
      "source": [
        "a = int(input(\"買い物の合計金額（税別）は？\"))\n",
        "\n",
        "b = a*0.8\n",
        "c = b*XXXXXXXXXXXXX\n",
        "\n",
        "print(\"支払いは{}円です\".format(int(c)) )"
      ],
      "execution_count": 0,
      "outputs": []
    },
    {
      "metadata": {
        "id": "dki2eD8DUC1h",
        "colab_type": "text"
      },
      "cell_type": "markdown",
      "source": [
        "最後の c の出力では，小数点以下は切り捨てるために，少数である c を整数にするために ```int()``` 関数を使ってcを整数に変換しています．"
      ]
    },
    {
      "metadata": {
        "id": "7-dOJ785UC1i",
        "colab_type": "text"
      },
      "cell_type": "markdown",
      "source": [
        "## 練習3\n",
        "8本足のタコと10本足のイカがいます．タコとイカの数を入力すると，頭の数と足の数を出力するプログラムを作成したいとします．プログラムを完成させるためには，以下のプログラムの __xx(1)xx__ と __xx(2)xx__ の部分に何を入れればよいでしょうか？"
      ]
    },
    {
      "metadata": {
        "check": 5,
        "id": "hwjF63h4UC1j",
        "colab_type": "code",
        "colab": {}
      },
      "cell_type": "code",
      "source": [
        "tako = int(input(\"タコは何匹？\")\n",
        "ika  = int(input(\"イカは何匹？\")\n",
        "\n",
        "atama = xx(1)xx\n",
        "asi = xx(2)xx\n",
        "\n",
        "print(\"頭の数は{}で，足の数は{}です．\".format(atama, asi))"
      ],
      "execution_count": 0,
      "outputs": []
    },
    {
      "metadata": {
        "id": "l266gATtUC1l",
        "colab_type": "text"
      },
      "cell_type": "markdown",
      "source": [
        "## 練習4\n",
        "\n",
        "![](http://158.217.45.5/complang/figs_kadai04/kadai04_03.png)\n",
        "\n",
        "上記のフローチャートと同じになるように，以下の XXXXXX 部分のプログラムを書いてください．"
      ]
    },
    {
      "metadata": {
        "check": 6,
        "id": "jM4F_LpIUC1l",
        "colab_type": "code",
        "colab": {}
      },
      "cell_type": "code",
      "source": [
        "a = xxxxxxxxxxxx\n",
        "b = xxxxxxxxxxxx\n",
        "\n",
        "c = a\n",
        "a = b\n",
        "xxxxxxxxxxxxx\n",
        "\n",
        "print(\"a=\",a)\n",
        "print(xxxxxxxxxxxx)"
      ],
      "execution_count": 0,
      "outputs": []
    },
    {
      "metadata": {
        "id": "pv8EyURjUC1n",
        "colab_type": "text"
      },
      "cell_type": "markdown",
      "source": [
        "## 選択構造(分岐):if\n",
        "\n",
        "## if/else\n",
        "\n",
        "Python で選択構造を表現するには ```if``` と ```else``` を使います．\n",
        "\n",
        "```python\n",
        "if 条件:\n",
        "    実行1\n",
        "else:\n",
        "    実行2\n",
        "```\n",
        "\n",
        "のように書き，条件が ___True___ であれば ___実行1___ が実行され， ___False___ であれば ___実行2___ が実行されます．前回も注意しましたが， ___if で実行される範囲はスペース４つ分で字下げすることに注意してください．___ "
      ]
    },
    {
      "metadata": {
        "id": "Zr5RbI5fUC1o",
        "colab_type": "text"
      },
      "cell_type": "markdown",
      "source": [
        "## 練習5\n",
        "\n",
        "![](http://158.217.45.5/complang/figs_kadai04/kadai04_04.png)\n",
        "\n",
        "上記の問題をプログラムした時，以下のプログラムのXXXXXXXに```\"卒業可能です．\"``` と ```\"卒業できません\"``` のどちらかを入れてください．"
      ]
    },
    {
      "metadata": {
        "check": 7,
        "id": "6ZkSBPMBUC1p",
        "colab_type": "code",
        "colab": {}
      },
      "cell_type": "code",
      "source": [
        "a = int(input(\"講義科目の取得単位数は？\"))\n",
        "b = int(input(\"実習科目の取得単位数は？\"))\n",
        "c = int(input(\"在籍年数は?\"))\n",
        "\n",
        "if a>=50:\n",
        "    if b>=12:\n",
        "        if c<=8:\n",
        "            print(XXXXXXXXXXXXX)\n",
        "        else:\n",
        "            print(XXXXXXXXXXX)\n",
        "    else:\n",
        "        print(XXXXXXXXXXXX)\n",
        "else:\n",
        "    print(XXXXXXXXXXX)"
      ],
      "execution_count": 0,
      "outputs": []
    },
    {
      "metadata": {
        "id": "UsBy6SU4UC1t",
        "colab_type": "text"
      },
      "cell_type": "markdown",
      "source": [
        "少し入り組んでいてややこしいですね．条件の部分は ```and``` や ```or``` を使って接続することができます．"
      ]
    },
    {
      "metadata": {
        "check": 8,
        "id": "FLv42OmRUC1u",
        "colab_type": "code",
        "colab": {}
      },
      "cell_type": "code",
      "source": [
        "a = int(input(\"講義科目の取得単位数は？\"))\n",
        "b = int(input(\"実習科目の取得単位数は？\"))\n",
        "c = int(input(\"在籍年数は?\"))\n",
        "\n",
        "if (a>=50) and (b>=12) and (c<=8):\n",
        "    print(XXXXXXXXXXXX)\n",
        "else:\n",
        "    print(XXXXXXXXXXXX)"
      ],
      "execution_count": 0,
      "outputs": []
    },
    {
      "metadata": {
        "id": "NkbYOE-hUC1x",
        "colab_type": "text"
      },
      "cell_type": "markdown",
      "source": [
        "授業では，否定の条件での構成できることも紹介しました．「どれか一つでも条件を満たしていなかったら不合格」は ```or``` を使って書くことができます．```or``` を使うと，上のプログラムは以下のようになります．"
      ]
    },
    {
      "metadata": {
        "check": 9,
        "id": "dOKMiXwaUC1z",
        "colab_type": "code",
        "colab": {}
      },
      "cell_type": "code",
      "source": [
        "a = int(input(\"講義科目の取得単位数は？\"))\n",
        "b = int(input(\"実習科目の取得単位数は？\"))\n",
        "c = int(input(\"在籍年数は?\"))\n",
        "\n",
        "if (a<50) or (b<12) or (c>8):\n",
        "    print(XXXXXXXXXX)\n",
        "else:\n",
        "    print(XXXXXXXXXX)"
      ],
      "execution_count": 0,
      "outputs": []
    },
    {
      "metadata": {
        "id": "C31b4F6kUC2N",
        "colab_type": "text"
      },
      "cell_type": "markdown",
      "source": [
        "## 練習6\n",
        "\n",
        "以下のフローチャートについて\n",
        "\n",
        "![](http://158.217.45.5/complang/figs_kadai04/kadai04_05.png)\n",
        "\n",
        "このフローチャート通りにプログラムが動くように，下のプログラムの xxxxxxxx に適切な式を入れてください．"
      ]
    },
    {
      "metadata": {
        "check": 10,
        "id": "-8PLWQVWUC2O",
        "colab_type": "code",
        "colab": {}
      },
      "cell_type": "code",
      "source": [
        "a = int(input(\"年齢を入力してください:\"))\n",
        "b = input(\"あなたは大阪市民ですか？yes または no で答えてください\")\n",
        "if b==\"no\":\n",
        "    print(\"割引はありません\")\n",
        "else:\n",
        "    if xxxxxxxx:\n",
        "        print(\"特別割引になります\")\n",
        "    else:\n",
        "        if xxxxxxxxx:\n",
        "            print(\"特別割引になります\")\n",
        "        else:\n",
        "            print(\"優待割引になります\")\n",
        "print(\"おわり\")"
      ],
      "execution_count": 0,
      "outputs": []
    },
    {
      "metadata": {
        "id": "dfapo4t0UC2Q",
        "colab_type": "text"
      },
      "cell_type": "markdown",
      "source": [
        "## 繰り返し: for\n",
        "\n",
        "### range関数\n",
        "何度も繰り返す処理は，以下のように ```range``` を使って書くことができます．\n",
        "\n",
        "```python\n",
        "for 変数 in range(繰り返し回数):\n",
        "    繰り返したい処理\n",
        "```"
      ]
    },
    {
      "metadata": {
        "check": 11,
        "id": "xkGcVaj4UC2Q",
        "colab_type": "code",
        "colab": {}
      },
      "cell_type": "code",
      "source": [
        "for i in range(10):\n",
        "    print(\"繰り返し\",i,\"回目\")"
      ],
      "execution_count": 0,
      "outputs": []
    },
    {
      "metadata": {
        "id": "crnxGh_lUC2T",
        "colab_type": "text"
      },
      "cell_type": "markdown",
      "source": [
        "range は\n",
        "```python\n",
        "range(最初の数, 最後の数, 差分)\n",
        "```\n",
        "のような使い方もできます．"
      ]
    },
    {
      "metadata": {
        "check": 12,
        "id": "eq72neFTUC2T",
        "colab_type": "code",
        "colab": {}
      },
      "cell_type": "code",
      "source": [
        "for i in range(0,10,2):\n",
        "    print(i)"
      ],
      "execution_count": 0,
      "outputs": []
    },
    {
      "metadata": {
        "id": "xmILKdW4UC2U",
        "colab_type": "text"
      },
      "cell_type": "markdown",
      "source": [
        "__「最後の数」は含まれない__ことに注意する必要があります．"
      ]
    },
    {
      "metadata": {
        "id": "hRm2BWQEUC2V",
        "colab_type": "text"
      },
      "cell_type": "markdown",
      "source": [
        "## 練習7\n",
        "![](http://158.217.45.5/complang/figs_kadai04/kadai04_06.png)\n",
        "\n",
        "ややこしいですが，ループ記号で ```i:1,1,i>10``` というのは，カウンタ変数が i で，初期値が1, 増分が1, 終了条件が10より大きくなったら，ということで，10まで繰り返されます．つまり，1から10までの和を求めるプログラムですが，python で書くと，以下の XXX は何を書けば良いでしょうか？"
      ]
    },
    {
      "metadata": {
        "check": 13,
        "id": "1VxNBZcjUC2W",
        "colab_type": "code",
        "colab": {}
      },
      "cell_type": "code",
      "source": [
        "sum = 0\n",
        "\n",
        "for i in range(XXX,XXX,XXX):\n",
        "    print(\"i=\",i)\n",
        "    sum = sum+i\n",
        "\n",
        "print(\"sum=\",sum)"
      ],
      "execution_count": 0,
      "outputs": []
    },
    {
      "metadata": {
        "id": "tFPrvkJtUC2X",
        "colab_type": "text"
      },
      "cell_type": "markdown",
      "source": [
        "## 練習8\n",
        "\n",
        "以下のフローチャートについて\n",
        "\n",
        "![](http://158.217.45.5/complang/figs_kadai04/kadai04_07.png)\n",
        "\n",
        "このフローチャート通りに動くようにするためには，以下のプログラムの XX に何を入れればよいでしょうか？"
      ]
    },
    {
      "metadata": {
        "check": 14,
        "id": "5STmLLp5UC2Z",
        "colab_type": "code",
        "colab": {}
      },
      "cell_type": "code",
      "source": [
        "k = int(input(\"kを入力してください\"))\n",
        "\n",
        "sum=0\n",
        "for i in range(XXX,XXX,XXX):\n",
        "    sum=sum+i\n",
        "\n",
        "print(\"sum=\",sum)"
      ],
      "execution_count": 0,
      "outputs": []
    },
    {
      "metadata": {
        "id": "SvVA5bgwUC2a",
        "colab_type": "text"
      },
      "cell_type": "markdown",
      "source": [
        "## 練習9\n",
        "以下のフローチャートについて\n",
        "\n",
        "![](http://158.217.45.5/complang/figs_kadai04/kadai04_08.png)\n",
        "\n",
        "このフローチャート通りに動くようにするためには，以下のプログラムの XXXXXXXX に何を入れればよいでしょうか？"
      ]
    },
    {
      "metadata": {
        "check": 15,
        "id": "zdWN18KtUC2c",
        "colab_type": "code",
        "colab": {}
      },
      "cell_type": "code",
      "source": [
        "sum=0\n",
        "\n",
        "for i in range(XX,XX,XX):\n",
        "    XXXXXXXXXXX\n",
        "\n",
        "print(XXXXXXXXX)"
      ],
      "execution_count": 0,
      "outputs": []
    },
    {
      "metadata": {
        "id": "gaNG4yP-UC2d",
        "colab_type": "text"
      },
      "cell_type": "markdown",
      "source": [
        "## if...elif...else"
      ]
    },
    {
      "metadata": {
        "id": "Nh7_dvS8UC2f",
        "colab_type": "text"
      },
      "cell_type": "markdown",
      "source": [
        "条件がたくさんある場合の分岐はどのように書いたら良いでしょうか？\n",
        "\n",
        "他のプログラム言語には switch という命令があり，例えばC言語では\n",
        "```c\n",
        "switch(式){\n",
        "    case 条件1:\n",
        "        命令1;\n",
        "        break;\n",
        "    case 条件2:\n",
        "        命令2;\n",
        "        break;\n",
        "}\n",
        "```\n",
        "のように書きます．\n",
        "\n",
        "Python には switch はありません．その代わり，```elif``` という命令で条件を並べます．\n",
        "\n",
        "```python\n",
        "\n",
        "if 条件１:\n",
        "    命令１\n",
        "elif 条件２:\n",
        "    命令２\n",
        "elif 条件３:\n",
        "    命令３\n",
        "else:\n",
        "    命令４\n",
        "```"
      ]
    },
    {
      "metadata": {
        "check": 16,
        "id": "2jCe-eLWUC2f",
        "colab_type": "code",
        "colab": {}
      },
      "cell_type": "code",
      "source": [
        "# 以下は，あるコミュニケーションロボットの一部のプログラムです．\n",
        "\n",
        "x = int(input(\"あなたの年齢を教えてください\"))\n",
        "\n",
        "if 0<=x<10:\n",
        "    message = \"ぼっちゃんかわいいね\"\n",
        "elif 10<=x<20:\n",
        "    message = \"親の言うことをよく聞いてください\"\n",
        "elif 20<=x<=30:\n",
        "    message = \"まだまだケツが青いですね\"\n",
        "else:\n",
        "    message = \"ようやく一人前になれましたか？\"\n",
        "\n",
        "print(message)"
      ],
      "execution_count": 0,
      "outputs": []
    },
    {
      "metadata": {
        "id": "oyBhDqlAUC2h",
        "colab_type": "text"
      },
      "cell_type": "markdown",
      "source": [
        "## 練習10\n",
        "\n",
        "BMI は身長$h[m]$と体重$w[kg]$から以下の式で計算することができます．\n",
        "\n",
        "$$\n",
        "BMI = \\frac{w}{h^2}\n",
        "$$\n",
        "\n",
        "この数字を元に\n",
        "\n",
        "| BMI | 評価 |\n",
        "|----| -----|\n",
        "| 18.5未満 | やせている |\n",
        "| 18.5以上25未満 | ふつう |\n",
        "| 25以上35未満 | ちょっと太っている |\n",
        "| 35以上 | かなり太っている |\n",
        "\n",
        "のように評価されます．\n",
        "\n",
        "身長と体重を入力したらBMIの評価が表示されるように，以下のプログラムを完成させてください．（単位に注意）"
      ]
    },
    {
      "metadata": {
        "check": 17,
        "id": "eNzonaHoUC2h",
        "colab_type": "code",
        "colab": {}
      },
      "cell_type": "code",
      "source": [
        "h = 169.0 #身長[cm]\n",
        "w = 68.0  #体重[kg]\n",
        "\n",
        "bmi = XXXXXXXX\n",
        "\n",
        "if bmi<18.5:\n",
        "    XXXXXXXX\n",
        "elif XXXXXXXX:\n",
        "    XXXXXXXX\n",
        "elif XXXXXXXXX:\n",
        "    XXXXXXXX\n",
        "elif XXXXXXXXX:\n",
        "    XXXXXXXX\n",
        "    "
      ],
      "execution_count": 0,
      "outputs": []
    },
    {
      "metadata": {
        "id": "oWM0vka5UC2j",
        "colab_type": "text"
      },
      "cell_type": "markdown",
      "source": [
        "## 練習11\n",
        "\n",
        "プログラムの[FizzBuzz](https://ja.wikipedia.org/wiki/Fizz_Buzz) という問題があります．\n",
        "\n",
        "* [「どうしてプログラマに・・・プログラムが書けないのか?」](http://www.aoky.net/articles/jeff_atwood/why_cant_programmers_program.htm)\n",
        "\n",
        "というエッセイによってプログラマを見分ける問題として有名になったそうです．\n",
        "具体的には以下のような問題になっています．\n",
        "\n",
        "```\n",
        "1から100までの数をプリントするプログラムを書け。\n",
        "ただし3の倍数のときは数の代わりに｢Fizz｣と、\n",
        "5の倍数のときは｢Buzz｣とプリントし、\n",
        "3と5両方の倍数の場合には｢FizzBuzz｣とプリントすること。\n",
        "```\n",
        "\n",
        "これを ```if, elif, else``` を使って  Python で書いてみてください．"
      ]
    },
    {
      "metadata": {
        "check": 18,
        "id": "r0iLeuSHUC2j",
        "colab_type": "code",
        "colab": {}
      },
      "cell_type": "code",
      "source": [
        "for i in range(1,101):\n",
        "    XXXXXXXX\n",
        "    \n",
        "    \n",
        "    \n",
        "    \n",
        "    \n",
        "    \n",
        "    "
      ],
      "execution_count": 0,
      "outputs": []
    },
    {
      "metadata": {
        "id": "uBsvO9EgUC2l",
        "colab_type": "text"
      },
      "cell_type": "markdown",
      "source": [
        "## 課題提出\n"
      ]
    },
    {
      "metadata": {
        "id": "5ekIfT-9UC2m",
        "colab_type": "text"
      },
      "cell_type": "markdown",
      "source": [
        "名前："
      ]
    },
    {
      "metadata": {
        "id": "ADsm7wFXUC2n",
        "colab_type": "text"
      },
      "cell_type": "markdown",
      "source": [
        "学籍番号："
      ]
    },
    {
      "metadata": {
        "id": "k7ClxJ-tUC2n",
        "colab_type": "text"
      },
      "cell_type": "markdown",
      "source": [
        "感想："
      ]
    },
    {
      "metadata": {
        "id": "Rq9akNpWUC2o",
        "colab_type": "text"
      },
      "cell_type": "markdown",
      "source": [
        "ファイルを保存したら，以下のリンクからファイルをアップロードしてください．\n",
        "\n",
        "* [アップロードサイト](http://158.217.45.5:8084/upload)"
      ]
    },
    {
      "metadata": {
        "id": "I0hj-PwVUC2p",
        "colab_type": "code",
        "colab": {}
      },
      "cell_type": "code",
      "source": [
        ""
      ],
      "execution_count": 0,
      "outputs": []
    }
  ]
}