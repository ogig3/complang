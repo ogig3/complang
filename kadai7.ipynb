{
 "cells": [
  {
   "cell_type": "markdown",
   "metadata": {},
   "source": [
    "# コンピュータの言語：課題７\n",
    "\n",
    "今回の授業では色の表現について学びました．まずは１６進数表現について練習して，次に画像やディスプレイの表現について考えてみます．\n",
    "\n",
    "## 練習1\n",
    "あなたが何かの作品を制作したり商品をデザインするとき様々な色があるということに驚くでしょう．色を決めるためには全体のバランスを考えて[配色](http://ja.wikipedia.org/wiki/配色)などに気を使わなければなりませんし，また，それによって引き出したい雰囲気を出すことが可能です．そのためには色々なツールがありますが，その一つとして「[日本の伝統色](http://nipponcolors.com/#nakabeni)」には様々な伝統色についての RGB あるいは\n",
    "CMYK表現が参照できるようになっています．その中の「紅」という色について，RGBによる１６進数表現を求め，#ABCDEF のように答えてください．"
   ]
  },
  {
   "cell_type": "markdown",
   "metadata": {},
   "source": [
    "#XXXXXX"
   ]
  },
  {
   "cell_type": "markdown",
   "metadata": {},
   "source": [
    "## ピクセル・ドット\n",
    "\n",
    "コンピュータで画像を扱うときの，色情報を持つ最小単位のことを __画素（ピクセル）__ と言います．また画面上に表示する場合の最小単位を __ドット__ と言います．これらは同一の言葉として使われることも多いです．\n",
    "\n",
    "## 画像の大きさ\n",
    "今回の授業では色の表現について学びました．１つのピクセルについて，RGB の３色を使って表現する場合，一つの色について２５６段階（１バイト）で表現したとすると，１ピクセルあたり 3 [バイト] 必要ということになります．iPhone6 のカメラは 800万画素であるそうですので，写真１枚当たりのファイルサイズは以下のように計算することができます．"
   ]
  },
  {
   "cell_type": "code",
   "execution_count": null,
   "metadata": {
    "collapsed": true
   },
   "outputs": [],
   "source": [
    "gaso = 800*(10**4)\n",
    "print( \"size=\", gaso*3, \"[Byte]\" )\n",
    "print( \"size=\", gaso*3/1024, \"[KByte]\")\n",
    "print( \"size=\", gaso*3/1024/1024, \"[MByte]\")"
   ]
  },
  {
   "cell_type": "markdown",
   "metadata": {},
   "source": [
    "実際には，画像は jpeg などの形式で圧縮されて保存されますので，ここまで大きなファイルサイズにはなりません．"
   ]
  },
  {
   "cell_type": "markdown",
   "metadata": {},
   "source": [
    "## 練習2\n",
    "以下の画像は，画素数から計算されるサイズに比べて，圧縮率を計算してみましょう．この画像は幅 320 ピクセル，高さ 240ピクセルです．（画像のサイズはダウンロードしてプロパティを見るなどして調べてください．圧縮率は例えば，800 kbyte のサイズが 400 kbyte に圧縮されていたら，(圧縮後のサイズ)/(圧縮前のサイズ)x100=400/800x100=50% と計算してください．）\n",
    "\n",
    "![](http://ogilab.kutc.kansai-u.ac.jp/complang/figs_kadai07/pasta.jpg)"
   ]
  },
  {
   "cell_type": "code",
   "execution_count": null,
   "metadata": {
    "collapsed": true
   },
   "outputs": [],
   "source": [
    "gaso = 320 * 240\n",
    "file_size = gaso * 3   # 単位は [byte]\n",
    "\n",
    "jpeg_size = ????????\n",
    "\n",
    "compress_rate = jpeg_size/file_size * 100.0\n",
    "\n",
    "print( \"圧縮率は\",compress_rate,\"%\" )"
   ]
  },
  {
   "cell_type": "markdown",
   "metadata": {},
   "source": [
    "## 練習３（基本情報処理技術者試験より改変）\n",
    "\n",
    "１文字が，縦 32 ドット，横 32 ドットで表される２値ビットマップのフォントがある。 文字データが 8,192 種類あるとき，文字データ全体を保存するために必要な領域は何メガバイトか。 ここで，１M バイト＝1,024k バイト，1k バイト＝1,024 バイトとし， 文字データは圧縮しないものとする。"
   ]
  },
  {
   "cell_type": "code",
   "execution_count": null,
   "metadata": {
    "collapsed": true
   },
   "outputs": [],
   "source": [
    "\n",
    "\n",
    "tate = 32\n",
    "yoko = ???????\n",
    "\n",
    "font_size = tate*yoko\n",
    "\n",
    "moji_zentai_size = font_size * ??????\n",
    "\n",
    "Kbyte_size = moji_zentai_size / 1024\n",
    "Mbyte_size = Kbyte_size / 1024\n",
    "\n",
    "print( \"文字データ全体を保存するために必要な領域は\", Mbyte_size, \"メガバイト\")\n"
   ]
  },
  {
   "cell_type": "markdown",
   "metadata": {},
   "source": [
    "## dpi\n",
    "\n",
    "最近のスマートフォンのディスプレイは画素がほとんど見えなくらいに高精細になってきました．画面の細かさ（__解像度__）の指標の一つとして __dpi__ というものがあります．これは１インチあたりにどれくらいの数のドットが入っているか（ドット・パー・インチ）を表す数です．１インチは 2.54cm ですので，2.54cm あたりにどれくらいのドットあるいは画素が入っているかということになります．\n",
    "\n",
    "例えば，人間の目にはドットのつぶつぶが区別できないと言われている Retina Display を持つ iPhone の場合はディスプレイは 326 dpi です．また，商業印刷の場合には 300-350 dpi くらいの解像度になっています．\n",
    "\n",
    "参考：[Fuji Xerox：オフィス de Tips 第3回 『解像度が高ければいいってもんじゃない ～画像の基礎知識～』](http://www.fujixerox.co.jp/support/xdirect/office_tips/tips1209.html)\n",
    "\n"
   ]
  },
  {
   "cell_type": "markdown",
   "metadata": {},
   "source": [
    "## 練習４（挑戦）\n",
    "\n",
    "人間の目は 1/100度程度の角度で見分けられるとされています．40cm 程度のところにあるスマートフォンの画面の画素（ピクセル）が見分けられなくなるのはどのくらいの dpi からでしょうか？\n",
    "\n",
    "#### ヒント\n",
    "\n",
    "角度 $\\theta$ で距離 $L$ 離れたところの長さ $x$ は\n",
    "\n",
    "$$\n",
    "x = L \\tan(\\theta) \n",
    "$$\n",
    "\n",
    "\n",
    "![](http://ogilab.kutc.kansai-u.ac.jp/complang/figs_kadai07/tan.png)\n",
    "\n",
    "と計算することができます．\n",
    "python で，角度 theta = 0.01 [度]で L=0.4 [m]の距離での長さは以下のように計算することができます．"
   ]
  },
  {
   "cell_type": "code",
   "execution_count": null,
   "metadata": {
    "collapsed": false
   },
   "outputs": [],
   "source": [
    "import math\n",
    "\n",
    "L = 0.4\n",
    "theta = 0.01 * math.pi/180.0   # 角度をラジアンに変換\n",
    "x = \n",
    "\n"
   ]
  },
  {
   "cell_type": "markdown",
   "metadata": {},
   "source": [
    "見分けられなくなるのは XXX dpi から．"
   ]
  },
  {
   "cell_type": "markdown",
   "metadata": {},
   "source": [
    "## 画像処理ライブラリ PIL\n",
    "\n",
    "Python には画像を扱うためのライブラリがいくつかありますが，その中から今回は PIL(Python Imaging Library) を紹介します．\n",
    "\n",
    "まず練習で使う画像ファイルをダウンロードして保存します．"
   ]
  },
  {
   "cell_type": "code",
   "execution_count": null,
   "metadata": {},
   "outputs": [],
   "source": [
    "# 練習で使う画像ファイルをダウンロードして保存\n",
    "import urllib.request\n",
    "\n",
    "url = \"http://ogilab.kutc.kansai-u.ac.jp/complang/figs_kadai07/pasta.jpg\" #ファイルのURL\n",
    "title = \"pasta.jpg\" #保存するファイル名\n",
    "urllib.request.urlretrieve(url,title)\n",
    "\n",
    "url = \"http://ogilab.kutc.kansai-u.ac.jp/complang/figs_kadai07/dog.jpg\" #ファイルのURL\n",
    "title = \"dog.jpg\" #保存するファイル名\n",
    "urllib.request.urlretrieve(url,title)"
   ]
  },
  {
   "cell_type": "markdown",
   "metadata": {},
   "source": [
    "PIL でディレクトリにある画像を読み込んでくるためには以下のようにします．"
   ]
  },
  {
   "cell_type": "code",
   "execution_count": null,
   "metadata": {
    "collapsed": true
   },
   "outputs": [],
   "source": [
    "from PIL import Image\n",
    "\n",
    "img = Image.open(\"./pasta.jpg\")\n",
    "\n",
    "print( img.size ) # 画像のサイズ\n",
    "print( img.mode ) # 画像のモード（白黒？，カラー？など）"
   ]
  },
  {
   "cell_type": "markdown",
   "metadata": {},
   "source": [
    "画像を表示するためは，```show``` というメソッドを使います．"
   ]
  },
  {
   "cell_type": "code",
   "execution_count": null,
   "metadata": {
    "collapsed": true
   },
   "outputs": [],
   "source": [
    "img.show()"
   ]
  },
  {
   "cell_type": "markdown",
   "metadata": {},
   "source": [
    "このメソッドでは別ウィンドウに表示されます．jupyter notebook の中で表示するために，この授業では以下の関数 'myshow' を用意しました．（今回はこの関数の意味は理解する必要はありません）"
   ]
  },
  {
   "cell_type": "code",
   "execution_count": null,
   "metadata": {
    "collapsed": true
   },
   "outputs": [],
   "source": [
    "import matplotlib.pyplot as plt\n",
    "import numpy as np\n",
    "\n",
    "def myshow(img):\n",
    "    npimg = np.array(img)\n",
    "    plt.imshow(npimg)\n",
    "    if img.mode == 'L':\n",
    "        plt.gray()\n",
    "    plt.show()"
   ]
  },
  {
   "cell_type": "markdown",
   "metadata": {},
   "source": [
    "それでは，読み込んできた画像 \"pasa.png\" の画像を表示してみましょう．"
   ]
  },
  {
   "cell_type": "code",
   "execution_count": null,
   "metadata": {
    "collapsed": true
   },
   "outputs": [],
   "source": [
    "myshow(img)"
   ]
  },
  {
   "cell_type": "markdown",
   "metadata": {},
   "source": [
    "PIL には様々な機能がありますが，まずは白黒に変換してみましょう．そのためには以下のようにします．"
   ]
  },
  {
   "cell_type": "code",
   "execution_count": null,
   "metadata": {
    "collapsed": true
   },
   "outputs": [],
   "source": [
    "gray_img = img.convert(\"L\")\n",
    "myshow(gray_img)"
   ]
  },
  {
   "cell_type": "markdown",
   "metadata": {},
   "source": [
    "画像は左上が原点になっていて，数学で習ってきた座標とは y 方向が逆になっていることに注意してください．\n",
    "\n",
    "![](./axis.png)\n",
    "\n",
    "\n",
    "## crop\n",
    "\n",
    "それでは今回は画像を切り取り(crop) する練習をしてみましょう．\n",
    "\n",
    "そのためには crop というメソッドを使います．crop には４つの数字を与えますが，\n",
    "\n",
    "```crop((x1,y1, x2,y2))```\n",
    "\n",
    "という形で切り取りたい四角の左上の座標 (x1,y1) と右下の座標 (x2, y2) を与えることによって切り取ることができます．"
   ]
  },
  {
   "cell_type": "code",
   "execution_count": null,
   "metadata": {
    "collapsed": true
   },
   "outputs": [],
   "source": [
    "cim = img.crop((50,50,150,150))\n",
    "\n",
    "myshow(cim)"
   ]
  },
  {
   "cell_type": "markdown",
   "metadata": {},
   "source": [
    "## 練習\n",
    "\n",
    "下の犬の画像について，犬の顔について，白黒にして顔部分を切り取って表示してください．\n"
   ]
  },
  {
   "cell_type": "code",
   "execution_count": null,
   "metadata": {
    "collapsed": true
   },
   "outputs": [],
   "source": [
    "dogimg = Image.open(\"./dog.jpg\")\n",
    "myshow(dogimg)"
   ]
  },
  {
   "cell_type": "code",
   "execution_count": null,
   "metadata": {
    "collapsed": true
   },
   "outputs": [],
   "source": [
    "## 白黒に変換\n",
    "\n",
    "dog_gray = XXXXXXXX\n",
    "\n",
    "## 切り取り\n",
    "\n",
    "dog_kao = XXXXXXXXXX\n",
    "\n",
    "##表示\n",
    "\n",
    "myshow(dog_kao)"
   ]
  },
  {
   "cell_type": "markdown",
   "metadata": {},
   "source": [
    "他のPILの様々な機能については，\"PIL python\" などで検索をかけるとたくさん出てきますが，例えば以下のようなページがあります．\n",
    "\n",
    "参考：[Qiita: PIL/Pillow チートシート](https://qiita.com/pashango2/items/145d858eff3c505c100a)"
   ]
  },
  {
   "cell_type": "markdown",
   "metadata": {},
   "source": [
    "## 課題提出"
   ]
  },
  {
   "cell_type": "markdown",
   "metadata": {},
   "source": [
    "名前："
   ]
  },
  {
   "cell_type": "markdown",
   "metadata": {},
   "source": [
    "学籍番号："
   ]
  },
  {
   "cell_type": "markdown",
   "metadata": {},
   "source": [
    "感想："
   ]
  },
  {
   "cell_type": "markdown",
   "metadata": {},
   "source": [
    "ファイルを保存したら，以下のリンクからファイルをアップロードしてください．\n",
    "\n",
    "* [アップロードサイト](http://158.217.45.5:8087/upload)"
   ]
  },
  {
   "cell_type": "code",
   "execution_count": null,
   "metadata": {},
   "outputs": [],
   "source": []
  }
 ],
 "metadata": {
  "anaconda-cloud": {},
  "kernelspec": {
   "display_name": "Python [default]",
   "language": "python",
   "name": "python3"
  },
  "language_info": {
   "codemirror_mode": {
    "name": "ipython",
    "version": 3
   },
   "file_extension": ".py",
   "mimetype": "text/x-python",
   "name": "python",
   "nbconvert_exporter": "python",
   "pygments_lexer": "ipython3",
   "version": "3.5.2"
  }
 },
 "nbformat": 4,
 "nbformat_minor": 2
}
